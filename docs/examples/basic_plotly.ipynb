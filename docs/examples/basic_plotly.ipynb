{
 "cells": [
  {
   "cell_type": "markdown",
   "id": "bb78ed5f",
   "metadata": {},
   "source": [
    "# Basic plotting with plotly"
   ]
  },
  {
   "cell_type": "code",
   "execution_count": 1,
   "id": "db1f0237",
   "metadata": {},
   "outputs": [],
   "source": [
    "from pathlib import Path\n",
    "\n",
    "import arcadia_pycolor as apc\n",
    "import plotly.express as px\n",
    "import plotly.graph_objects as go\n",
    "from plotly.subplots import make_subplots\n",
    "from natsort import natsorted\n",
    "\n",
    "from growth_curve_calculator import parse_spectramax_xml"
   ]
  },
  {
   "cell_type": "markdown",
   "id": "a2f451f2",
   "metadata": {},
   "source": [
    "### Sample absorption measurement heatmap"
   ]
  },
  {
   "cell_type": "code",
   "execution_count": 2,
   "id": "e8981054",
   "metadata": {},
   "outputs": [
    {
     "data": {
      "text/html": [
       "<div>\n",
       "<style scoped>\n",
       "    .dataframe tbody tr th:only-of-type {\n",
       "        vertical-align: middle;\n",
       "    }\n",
       "\n",
       "    .dataframe tbody tr th {\n",
       "        vertical-align: top;\n",
       "    }\n",
       "\n",
       "    .dataframe thead th {\n",
       "        text-align: right;\n",
       "    }\n",
       "</style>\n",
       "<table border=\"1\" class=\"dataframe\">\n",
       "  <thead>\n",
       "    <tr style=\"text-align: right;\">\n",
       "      <th>well_column</th>\n",
       "      <th>1</th>\n",
       "      <th>2</th>\n",
       "      <th>3</th>\n",
       "      <th>4</th>\n",
       "    </tr>\n",
       "    <tr>\n",
       "      <th>well_row</th>\n",
       "      <th></th>\n",
       "      <th></th>\n",
       "      <th></th>\n",
       "      <th></th>\n",
       "    </tr>\n",
       "  </thead>\n",
       "  <tbody>\n",
       "    <tr>\n",
       "      <th>A</th>\n",
       "      <td>0.112</td>\n",
       "      <td>0.445</td>\n",
       "      <td>0.122</td>\n",
       "      <td>0.112</td>\n",
       "    </tr>\n",
       "    <tr>\n",
       "      <th>B</th>\n",
       "      <td>0.107</td>\n",
       "      <td>0.641</td>\n",
       "      <td>0.157</td>\n",
       "      <td>0.167</td>\n",
       "    </tr>\n",
       "    <tr>\n",
       "      <th>C</th>\n",
       "      <td>0.092</td>\n",
       "      <td>0.343</td>\n",
       "      <td>0.138</td>\n",
       "      <td>0.118</td>\n",
       "    </tr>\n",
       "    <tr>\n",
       "      <th>D</th>\n",
       "      <td>0.123</td>\n",
       "      <td>0.440</td>\n",
       "      <td>0.153</td>\n",
       "      <td>0.117</td>\n",
       "    </tr>\n",
       "  </tbody>\n",
       "</table>\n",
       "</div>"
      ],
      "text/plain": [
       "well_column      1      2      3      4\n",
       "well_row                               \n",
       "A            0.112  0.445  0.122  0.112\n",
       "B            0.107  0.641  0.157  0.167\n",
       "C            0.092  0.343  0.138  0.118\n",
       "D            0.123  0.440  0.153  0.117"
      ]
     },
     "execution_count": 2,
     "metadata": {},
     "output_type": "execute_result"
    }
   ],
   "source": [
    "# Parse an XML file\n",
    "example_data_directory = Path(\"../../growth_curve_calculator/tests/example_data\")\n",
    "xml_filepath = example_data_directory / \"sample_endpoints_3.xml\"\n",
    "microplate_data_list = parse_spectramax_xml(xml_filepath)\n",
    "plate_data = microplate_data_list[0]\n",
    "# plate_data.measurements.head()\n",
    "\n",
    "# Transform OD measurements into a format supported by seaborn heatmap\n",
    "measurements = plate_data.measurements.pivot(\n",
    "    index=\"well_row\",\n",
    "    columns=\"well_column\",\n",
    "    values=\"value\",\n",
    ")\n",
    "measurements"
   ]
  },
  {
   "cell_type": "code",
   "execution_count": 3,
   "id": "b2bc7baf",
   "metadata": {},
   "outputs": [
    {
     "data": {
      "application/vnd.plotly.v1+json": {
       "config": {
        "plotlyServerURL": "https://plot.ly"
       },
       "data": [
        {
         "coloraxis": "coloraxis",
         "hovertemplate": "well_column: %{x}<br>well_row: %{y}<br>color: %{z}<extra></extra>",
         "name": "0",
         "texttemplate": "%{z}",
         "type": "heatmap",
         "x": {
          "bdata": "AQIDBA==",
          "dtype": "i1"
         },
         "xaxis": "x",
         "y": [
          "A",
          "B",
          "C",
          "D"
         ],
         "yaxis": "y",
         "z": {
          "bdata": "eekmMQisvD97FK5H4XrcPwisHFpkO78/eekmMQisvD8xCKwcWmS7P1CNl24Sg+Q/f2q8dJMYxD/HSzeJQWDFP1pkO99Pjbc/wcqhRbbz1T9Ei2zn+6nBP2iR7Xw/Nb4/sHJoke18vz8pXI/C9SjcPy/dJAaBlcM/wcqhRbbzvT8=",
          "dtype": "f8",
          "shape": "4, 4"
         }
        }
       ],
       "layout": {
        "coloraxis": {
         "colorscale": [
          [
           0,
           "rgb(5,48,97)"
          ],
          [
           0.1,
           "rgb(33,102,172)"
          ],
          [
           0.2,
           "rgb(67,147,195)"
          ],
          [
           0.3,
           "rgb(146,197,222)"
          ],
          [
           0.4,
           "rgb(209,229,240)"
          ],
          [
           0.5,
           "rgb(247,247,247)"
          ],
          [
           0.6,
           "rgb(253,219,199)"
          ],
          [
           0.7,
           "rgb(244,165,130)"
          ],
          [
           0.8,
           "rgb(214,96,77)"
          ],
          [
           0.9,
           "rgb(178,24,43)"
          ],
          [
           1,
           "rgb(103,0,31)"
          ]
         ]
        },
        "margin": {
         "t": 60
        },
        "template": {
         "data": {
          "bar": [
           {
            "error_x": {
             "color": "#2a3f5f"
            },
            "error_y": {
             "color": "#2a3f5f"
            },
            "marker": {
             "line": {
              "color": "#E5ECF6",
              "width": 0.5
             },
             "pattern": {
              "fillmode": "overlay",
              "size": 10,
              "solidity": 0.2
             }
            },
            "type": "bar"
           }
          ],
          "barpolar": [
           {
            "marker": {
             "line": {
              "color": "#E5ECF6",
              "width": 0.5
             },
             "pattern": {
              "fillmode": "overlay",
              "size": 10,
              "solidity": 0.2
             }
            },
            "type": "barpolar"
           }
          ],
          "carpet": [
           {
            "aaxis": {
             "endlinecolor": "#2a3f5f",
             "gridcolor": "white",
             "linecolor": "white",
             "minorgridcolor": "white",
             "startlinecolor": "#2a3f5f"
            },
            "baxis": {
             "endlinecolor": "#2a3f5f",
             "gridcolor": "white",
             "linecolor": "white",
             "minorgridcolor": "white",
             "startlinecolor": "#2a3f5f"
            },
            "type": "carpet"
           }
          ],
          "choropleth": [
           {
            "colorbar": {
             "outlinewidth": 0,
             "ticks": ""
            },
            "type": "choropleth"
           }
          ],
          "contour": [
           {
            "colorbar": {
             "outlinewidth": 0,
             "ticks": ""
            },
            "colorscale": [
             [
              0,
              "#0d0887"
             ],
             [
              0.1111111111111111,
              "#46039f"
             ],
             [
              0.2222222222222222,
              "#7201a8"
             ],
             [
              0.3333333333333333,
              "#9c179e"
             ],
             [
              0.4444444444444444,
              "#bd3786"
             ],
             [
              0.5555555555555556,
              "#d8576b"
             ],
             [
              0.6666666666666666,
              "#ed7953"
             ],
             [
              0.7777777777777778,
              "#fb9f3a"
             ],
             [
              0.8888888888888888,
              "#fdca26"
             ],
             [
              1,
              "#f0f921"
             ]
            ],
            "type": "contour"
           }
          ],
          "contourcarpet": [
           {
            "colorbar": {
             "outlinewidth": 0,
             "ticks": ""
            },
            "type": "contourcarpet"
           }
          ],
          "heatmap": [
           {
            "colorbar": {
             "outlinewidth": 0,
             "ticks": ""
            },
            "colorscale": [
             [
              0,
              "#0d0887"
             ],
             [
              0.1111111111111111,
              "#46039f"
             ],
             [
              0.2222222222222222,
              "#7201a8"
             ],
             [
              0.3333333333333333,
              "#9c179e"
             ],
             [
              0.4444444444444444,
              "#bd3786"
             ],
             [
              0.5555555555555556,
              "#d8576b"
             ],
             [
              0.6666666666666666,
              "#ed7953"
             ],
             [
              0.7777777777777778,
              "#fb9f3a"
             ],
             [
              0.8888888888888888,
              "#fdca26"
             ],
             [
              1,
              "#f0f921"
             ]
            ],
            "type": "heatmap"
           }
          ],
          "histogram": [
           {
            "marker": {
             "pattern": {
              "fillmode": "overlay",
              "size": 10,
              "solidity": 0.2
             }
            },
            "type": "histogram"
           }
          ],
          "histogram2d": [
           {
            "colorbar": {
             "outlinewidth": 0,
             "ticks": ""
            },
            "colorscale": [
             [
              0,
              "#0d0887"
             ],
             [
              0.1111111111111111,
              "#46039f"
             ],
             [
              0.2222222222222222,
              "#7201a8"
             ],
             [
              0.3333333333333333,
              "#9c179e"
             ],
             [
              0.4444444444444444,
              "#bd3786"
             ],
             [
              0.5555555555555556,
              "#d8576b"
             ],
             [
              0.6666666666666666,
              "#ed7953"
             ],
             [
              0.7777777777777778,
              "#fb9f3a"
             ],
             [
              0.8888888888888888,
              "#fdca26"
             ],
             [
              1,
              "#f0f921"
             ]
            ],
            "type": "histogram2d"
           }
          ],
          "histogram2dcontour": [
           {
            "colorbar": {
             "outlinewidth": 0,
             "ticks": ""
            },
            "colorscale": [
             [
              0,
              "#0d0887"
             ],
             [
              0.1111111111111111,
              "#46039f"
             ],
             [
              0.2222222222222222,
              "#7201a8"
             ],
             [
              0.3333333333333333,
              "#9c179e"
             ],
             [
              0.4444444444444444,
              "#bd3786"
             ],
             [
              0.5555555555555556,
              "#d8576b"
             ],
             [
              0.6666666666666666,
              "#ed7953"
             ],
             [
              0.7777777777777778,
              "#fb9f3a"
             ],
             [
              0.8888888888888888,
              "#fdca26"
             ],
             [
              1,
              "#f0f921"
             ]
            ],
            "type": "histogram2dcontour"
           }
          ],
          "mesh3d": [
           {
            "colorbar": {
             "outlinewidth": 0,
             "ticks": ""
            },
            "type": "mesh3d"
           }
          ],
          "parcoords": [
           {
            "line": {
             "colorbar": {
              "outlinewidth": 0,
              "ticks": ""
             }
            },
            "type": "parcoords"
           }
          ],
          "pie": [
           {
            "automargin": true,
            "type": "pie"
           }
          ],
          "scatter": [
           {
            "fillpattern": {
             "fillmode": "overlay",
             "size": 10,
             "solidity": 0.2
            },
            "type": "scatter"
           }
          ],
          "scatter3d": [
           {
            "line": {
             "colorbar": {
              "outlinewidth": 0,
              "ticks": ""
             }
            },
            "marker": {
             "colorbar": {
              "outlinewidth": 0,
              "ticks": ""
             }
            },
            "type": "scatter3d"
           }
          ],
          "scattercarpet": [
           {
            "marker": {
             "colorbar": {
              "outlinewidth": 0,
              "ticks": ""
             }
            },
            "type": "scattercarpet"
           }
          ],
          "scattergeo": [
           {
            "marker": {
             "colorbar": {
              "outlinewidth": 0,
              "ticks": ""
             }
            },
            "type": "scattergeo"
           }
          ],
          "scattergl": [
           {
            "marker": {
             "colorbar": {
              "outlinewidth": 0,
              "ticks": ""
             }
            },
            "type": "scattergl"
           }
          ],
          "scattermap": [
           {
            "marker": {
             "colorbar": {
              "outlinewidth": 0,
              "ticks": ""
             }
            },
            "type": "scattermap"
           }
          ],
          "scattermapbox": [
           {
            "marker": {
             "colorbar": {
              "outlinewidth": 0,
              "ticks": ""
             }
            },
            "type": "scattermapbox"
           }
          ],
          "scatterpolar": [
           {
            "marker": {
             "colorbar": {
              "outlinewidth": 0,
              "ticks": ""
             }
            },
            "type": "scatterpolar"
           }
          ],
          "scatterpolargl": [
           {
            "marker": {
             "colorbar": {
              "outlinewidth": 0,
              "ticks": ""
             }
            },
            "type": "scatterpolargl"
           }
          ],
          "scatterternary": [
           {
            "marker": {
             "colorbar": {
              "outlinewidth": 0,
              "ticks": ""
             }
            },
            "type": "scatterternary"
           }
          ],
          "surface": [
           {
            "colorbar": {
             "outlinewidth": 0,
             "ticks": ""
            },
            "colorscale": [
             [
              0,
              "#0d0887"
             ],
             [
              0.1111111111111111,
              "#46039f"
             ],
             [
              0.2222222222222222,
              "#7201a8"
             ],
             [
              0.3333333333333333,
              "#9c179e"
             ],
             [
              0.4444444444444444,
              "#bd3786"
             ],
             [
              0.5555555555555556,
              "#d8576b"
             ],
             [
              0.6666666666666666,
              "#ed7953"
             ],
             [
              0.7777777777777778,
              "#fb9f3a"
             ],
             [
              0.8888888888888888,
              "#fdca26"
             ],
             [
              1,
              "#f0f921"
             ]
            ],
            "type": "surface"
           }
          ],
          "table": [
           {
            "cells": {
             "fill": {
              "color": "#EBF0F8"
             },
             "line": {
              "color": "white"
             }
            },
            "header": {
             "fill": {
              "color": "#C8D4E3"
             },
             "line": {
              "color": "white"
             }
            },
            "type": "table"
           }
          ]
         },
         "layout": {
          "annotationdefaults": {
           "arrowcolor": "#2a3f5f",
           "arrowhead": 0,
           "arrowwidth": 1
          },
          "autotypenumbers": "strict",
          "coloraxis": {
           "colorbar": {
            "outlinewidth": 0,
            "ticks": ""
           }
          },
          "colorscale": {
           "diverging": [
            [
             0,
             "#8e0152"
            ],
            [
             0.1,
             "#c51b7d"
            ],
            [
             0.2,
             "#de77ae"
            ],
            [
             0.3,
             "#f1b6da"
            ],
            [
             0.4,
             "#fde0ef"
            ],
            [
             0.5,
             "#f7f7f7"
            ],
            [
             0.6,
             "#e6f5d0"
            ],
            [
             0.7,
             "#b8e186"
            ],
            [
             0.8,
             "#7fbc41"
            ],
            [
             0.9,
             "#4d9221"
            ],
            [
             1,
             "#276419"
            ]
           ],
           "sequential": [
            [
             0,
             "#0d0887"
            ],
            [
             0.1111111111111111,
             "#46039f"
            ],
            [
             0.2222222222222222,
             "#7201a8"
            ],
            [
             0.3333333333333333,
             "#9c179e"
            ],
            [
             0.4444444444444444,
             "#bd3786"
            ],
            [
             0.5555555555555556,
             "#d8576b"
            ],
            [
             0.6666666666666666,
             "#ed7953"
            ],
            [
             0.7777777777777778,
             "#fb9f3a"
            ],
            [
             0.8888888888888888,
             "#fdca26"
            ],
            [
             1,
             "#f0f921"
            ]
           ],
           "sequentialminus": [
            [
             0,
             "#0d0887"
            ],
            [
             0.1111111111111111,
             "#46039f"
            ],
            [
             0.2222222222222222,
             "#7201a8"
            ],
            [
             0.3333333333333333,
             "#9c179e"
            ],
            [
             0.4444444444444444,
             "#bd3786"
            ],
            [
             0.5555555555555556,
             "#d8576b"
            ],
            [
             0.6666666666666666,
             "#ed7953"
            ],
            [
             0.7777777777777778,
             "#fb9f3a"
            ],
            [
             0.8888888888888888,
             "#fdca26"
            ],
            [
             1,
             "#f0f921"
            ]
           ]
          },
          "colorway": [
           "#636efa",
           "#EF553B",
           "#00cc96",
           "#ab63fa",
           "#FFA15A",
           "#19d3f3",
           "#FF6692",
           "#B6E880",
           "#FF97FF",
           "#FECB52"
          ],
          "font": {
           "color": "#2a3f5f"
          },
          "geo": {
           "bgcolor": "white",
           "lakecolor": "white",
           "landcolor": "#E5ECF6",
           "showlakes": true,
           "showland": true,
           "subunitcolor": "white"
          },
          "hoverlabel": {
           "align": "left"
          },
          "hovermode": "closest",
          "mapbox": {
           "style": "light"
          },
          "paper_bgcolor": "white",
          "plot_bgcolor": "#E5ECF6",
          "polar": {
           "angularaxis": {
            "gridcolor": "white",
            "linecolor": "white",
            "ticks": ""
           },
           "bgcolor": "#E5ECF6",
           "radialaxis": {
            "gridcolor": "white",
            "linecolor": "white",
            "ticks": ""
           }
          },
          "scene": {
           "xaxis": {
            "backgroundcolor": "#E5ECF6",
            "gridcolor": "white",
            "gridwidth": 2,
            "linecolor": "white",
            "showbackground": true,
            "ticks": "",
            "zerolinecolor": "white"
           },
           "yaxis": {
            "backgroundcolor": "#E5ECF6",
            "gridcolor": "white",
            "gridwidth": 2,
            "linecolor": "white",
            "showbackground": true,
            "ticks": "",
            "zerolinecolor": "white"
           },
           "zaxis": {
            "backgroundcolor": "#E5ECF6",
            "gridcolor": "white",
            "gridwidth": 2,
            "linecolor": "white",
            "showbackground": true,
            "ticks": "",
            "zerolinecolor": "white"
           }
          },
          "shapedefaults": {
           "line": {
            "color": "#2a3f5f"
           }
          },
          "ternary": {
           "aaxis": {
            "gridcolor": "white",
            "linecolor": "white",
            "ticks": ""
           },
           "baxis": {
            "gridcolor": "white",
            "linecolor": "white",
            "ticks": ""
           },
           "bgcolor": "#E5ECF6",
           "caxis": {
            "gridcolor": "white",
            "linecolor": "white",
            "ticks": ""
           }
          },
          "title": {
           "x": 0.05
          },
          "xaxis": {
           "automargin": true,
           "gridcolor": "white",
           "linecolor": "white",
           "ticks": "",
           "title": {
            "standoff": 15
           },
           "zerolinecolor": "white",
           "zerolinewidth": 2
          },
          "yaxis": {
           "automargin": true,
           "gridcolor": "white",
           "linecolor": "white",
           "ticks": "",
           "title": {
            "standoff": 15
           },
           "zerolinecolor": "white",
           "zerolinewidth": 2
          }
         }
        },
        "width": 500,
        "xaxis": {
         "anchor": "y",
         "domain": [
          0,
          1
         ],
         "title": {
          "text": "well_column"
         }
        },
        "yaxis": {
         "anchor": "x",
         "autorange": "reversed",
         "domain": [
          0,
          1
         ],
         "title": {
          "text": "well_row"
         }
        }
       }
      }
     },
     "metadata": {},
     "output_type": "display_data"
    }
   ],
   "source": [
    "# Create heatmap\n",
    "fig = px.imshow(\n",
    "    measurements,\n",
    "    text_auto=True,\n",
    "    aspect=\"auto\",\n",
    "    color_continuous_scale=\"RdBu_r\",\n",
    ")\n",
    "fig.update_layout(\n",
    "    width=500,\n",
    ")\n",
    "fig.show()"
   ]
  },
  {
   "cell_type": "markdown",
   "id": "a3c5f444",
   "metadata": {},
   "source": [
    "### Sample spectral scan"
   ]
  },
  {
   "cell_type": "code",
   "execution_count": 4,
   "id": "5adbeb66",
   "metadata": {},
   "outputs": [
    {
     "data": {
      "text/html": [
       "<div>\n",
       "<style scoped>\n",
       "    .dataframe tbody tr th:only-of-type {\n",
       "        vertical-align: middle;\n",
       "    }\n",
       "\n",
       "    .dataframe tbody tr th {\n",
       "        vertical-align: top;\n",
       "    }\n",
       "\n",
       "    .dataframe thead th {\n",
       "        text-align: right;\n",
       "    }\n",
       "</style>\n",
       "<table border=\"1\" class=\"dataframe\">\n",
       "  <thead>\n",
       "    <tr style=\"text-align: right;\">\n",
       "      <th></th>\n",
       "      <th>well_row</th>\n",
       "      <th>well_column</th>\n",
       "      <th>well_id</th>\n",
       "      <th>value</th>\n",
       "      <th>excitation_nm</th>\n",
       "      <th>emission_nm</th>\n",
       "    </tr>\n",
       "  </thead>\n",
       "  <tbody>\n",
       "    <tr>\n",
       "      <th>0</th>\n",
       "      <td>A</td>\n",
       "      <td>1</td>\n",
       "      <td>A01</td>\n",
       "      <td>4416022.0</td>\n",
       "      <td>350.0</td>\n",
       "      <td>570.0</td>\n",
       "    </tr>\n",
       "    <tr>\n",
       "      <th>1</th>\n",
       "      <td>A</td>\n",
       "      <td>2</td>\n",
       "      <td>A02</td>\n",
       "      <td>4134762.0</td>\n",
       "      <td>350.0</td>\n",
       "      <td>570.0</td>\n",
       "    </tr>\n",
       "    <tr>\n",
       "      <th>2</th>\n",
       "      <td>A</td>\n",
       "      <td>3</td>\n",
       "      <td>A03</td>\n",
       "      <td>4024690.0</td>\n",
       "      <td>350.0</td>\n",
       "      <td>570.0</td>\n",
       "    </tr>\n",
       "    <tr>\n",
       "      <th>3</th>\n",
       "      <td>A</td>\n",
       "      <td>4</td>\n",
       "      <td>A04</td>\n",
       "      <td>6265246.0</td>\n",
       "      <td>350.0</td>\n",
       "      <td>570.0</td>\n",
       "    </tr>\n",
       "    <tr>\n",
       "      <th>4</th>\n",
       "      <td>A</td>\n",
       "      <td>5</td>\n",
       "      <td>A05</td>\n",
       "      <td>4405988.0</td>\n",
       "      <td>350.0</td>\n",
       "      <td>570.0</td>\n",
       "    </tr>\n",
       "  </tbody>\n",
       "</table>\n",
       "</div>"
      ],
      "text/plain": [
       "  well_row  well_column well_id      value  excitation_nm  emission_nm\n",
       "0        A            1     A01  4416022.0          350.0        570.0\n",
       "1        A            2     A02  4134762.0          350.0        570.0\n",
       "2        A            3     A03  4024690.0          350.0        570.0\n",
       "3        A            4     A04  6265246.0          350.0        570.0\n",
       "4        A            5     A05  4405988.0          350.0        570.0"
      ]
     },
     "execution_count": 4,
     "metadata": {},
     "output_type": "execute_result"
    }
   ],
   "source": [
    "# Parse an XML file\n",
    "xml_filepath = example_data_directory / \"sample_spectrum_scans.xml\"\n",
    "microplate_data_list = parse_spectramax_xml(xml_filepath)\n",
    "plate_data = microplate_data_list[9]\n",
    "plate_data.measurements.head()"
   ]
  },
  {
   "cell_type": "code",
   "execution_count": 5,
   "id": "e12c5f5e",
   "metadata": {},
   "outputs": [
    {
     "data": {
      "application/vnd.plotly.v1+json": {
       "config": {
        "plotlyServerURL": "https://plot.ly"
       },
       "data": [
        {
         "marker": {
          "color": "blue"
         },
         "mode": "lines",
         "showlegend": false,
         "type": "scatter",
         "x": {
          "bdata": "AAAAAADgdUAAAAAAAIB2QAAAAAAAIHdAAAAAAADAd0AAAAAAAGB4QAAAAAAAAHlAAAAAAACgeUAAAAAAAEB6QAAAAAAA4HpAAAAAAACAe0AAAAAAACB8QAAAAAAAwHxAAAAAAABgfUAAAAAAAAB+QAAAAAAAoH5AAAAAAABAf0AAAAAAAOB/QAAAAAAAQIBA",
          "dtype": "f8"
         },
         "xaxis": "x",
         "y": {
          "bdata": "AAAAgIXYUEEAAAAAyBBWQQAAAMDBu1pBAAAAQNHEW0EAAAAAL19bQQAAAIDFvFpBAAAAwOGyWkEAAABA1Y1aQQAAAECWGFpBAAAAQKHeWUEAAABAWbNYQQAAAICsHFdBAAAAAKVaVEEAAACAQshPQQAAAAAPQkhBAAAAAHuNQEEAAAAAJXg5QQAAAADENzhB",
          "dtype": "f8"
         },
         "yaxis": "y"
        },
        {
         "marker": {
          "color": "blue"
         },
         "mode": "lines",
         "showlegend": false,
         "type": "scatter",
         "x": {
          "bdata": "AAAAAADgdUAAAAAAAIB2QAAAAAAAIHdAAAAAAADAd0AAAAAAAGB4QAAAAAAAAHlAAAAAAACgeUAAAAAAAEB6QAAAAAAA4HpAAAAAAACAe0AAAAAAACB8QAAAAAAAwHxAAAAAAABgfUAAAAAAAAB+QAAAAAAAoH5AAAAAAABAf0AAAAAAAOB/QAAAAAAAQIBA",
          "dtype": "f8"
         },
         "xaxis": "x2",
         "y": {
          "bdata": "AAAAALWLT0EAAAAAMbBUQQAAAIA091hBAAAAgL1fWUEAAACAOGdZQQAAAACPrVhBAAAAgHTnWEEAAACAxAVZQQAAAIDMJllBAAAAgE81WUEAAADAt0FYQQAAAMD5eFZBAAAAgI3KU0EAAACAvMVOQQAAAACFcUdBAAAAAAwEQEEAAAAAe4o4QQAAAAAYbjdB",
          "dtype": "f8"
         },
         "yaxis": "y2"
        },
        {
         "marker": {
          "color": "blue"
         },
         "mode": "lines",
         "showlegend": false,
         "type": "scatter",
         "x": {
          "bdata": "AAAAAADgdUAAAAAAAIB2QAAAAAAAIHdAAAAAAADAd0AAAAAAAGB4QAAAAAAAAHlAAAAAAACgeUAAAAAAAEB6QAAAAAAA4HpAAAAAAACAe0AAAAAAACB8QAAAAAAAwHxAAAAAAABgfUAAAAAAAAB+QAAAAAAAoH5AAAAAAABAf0AAAAAAAOB/QAAAAAAAQIBA",
          "dtype": "f8"
         },
         "xaxis": "x3",
         "y": {
          "bdata": "AAAAALm0TkEAAACAj1dUQQAAAAA6rVhBAAAAALo6WUEAAADAulpZQQAAAABys1hBAAAAAMPIWEEAAAAAxORYQQAAAMAk/FhBAAAAgBIKWUEAAABAuf9XQQAAAMAJLVZBAAAAANSSU0EAAAAAuX9OQQAAAABeG0dBAAAAACLJP0EAAAAA5hQ4QQAAAACd+zZB",
          "dtype": "f8"
         },
         "yaxis": "y3"
        },
        {
         "marker": {
          "color": "blue"
         },
         "mode": "lines",
         "showlegend": false,
         "type": "scatter",
         "x": {
          "bdata": "AAAAAADgdUAAAAAAAIB2QAAAAAAAIHdAAAAAAADAd0AAAAAAAGB4QAAAAAAAAHlAAAAAAACgeUAAAAAAAEB6QAAAAAAA4HpAAAAAAACAe0AAAAAAACB8QAAAAAAAwHxAAAAAAABgfUAAAAAAAAB+QAAAAAAAoH5AAAAAAABAf0AAAAAAAOB/QAAAAAAAQIBA",
          "dtype": "f8"
         },
         "xaxis": "x4",
         "y": {
          "bdata": "AAAAgGfmV0EAAABgdfJhQQAAAMB1GWlBAAAA4HEPbUEAAABAc0BwQQAAAGDDinBBAAAAIDy6bkEAAACge6lqQQAAAOCnRGVBAAAAwCU7YUEAAAAg3UFgQQAAAODkAGBBAAAAAFXbXkEAAAAAASZaQQAAAIC9KlRBAAAAAOGzSUEAAAAAIQ5AQQAAAADJijpB",
          "dtype": "f8"
         },
         "yaxis": "y4"
        },
        {
         "marker": {
          "color": "blue"
         },
         "mode": "lines",
         "showlegend": false,
         "type": "scatter",
         "x": {
          "bdata": "AAAAAADgdUAAAAAAAIB2QAAAAAAAIHdAAAAAAADAd0AAAAAAAGB4QAAAAAAAAHlAAAAAAACgeUAAAAAAAEB6QAAAAAAA4HpAAAAAAACAe0AAAAAAACB8QAAAAAAAwHxAAAAAAABgfUAAAAAAAAB+QAAAAAAAoH5AAAAAAABAf0AAAAAAAOB/QAAAAAAAQIBA",
          "dtype": "f8"
         },
         "xaxis": "x5",
         "y": {
          "bdata": "AAAAALnOUEEAAABAjH1XQQAAAIB5XF5BAAAAAI13YEEAAACg8ohhQQAAAAAZh2FBAAAAoJwEYUEAAACAtPZfQQAAAEArL11BAAAAQPUUW0EAAAAAV/JZQQAAAADBoVhBAAAAADKYVkEAAAAAfj9SQQAAAAB+CkxBAAAAgDm5QkEAAAAAZ+k6QQAAAAC2oDhB",
          "dtype": "f8"
         },
         "yaxis": "y5"
        },
        {
         "marker": {
          "color": "blue"
         },
         "mode": "lines",
         "showlegend": false,
         "type": "scatter",
         "x": {
          "bdata": "AAAAAADgdUAAAAAAAIB2QAAAAAAAIHdAAAAAAADAd0AAAAAAAGB4QAAAAAAAAHlAAAAAAACgeUAAAAAAAEB6QAAAAAAA4HpAAAAAAACAe0AAAAAAACB8QAAAAAAAwHxAAAAAAABgfUAAAAAAAAB+QAAAAAAAoH5AAAAAAABAf0AAAAAAAOB/QAAAAAAAQIBA",
          "dtype": "f8"
         },
         "xaxis": "x6",
         "y": {
          "bdata": "AAAAAEoPWUEAAABAsbpiQQAAAIC3XWpBAAAAAH/ebkEAAABAjXBxQQAAAAAT6HFBAAAAAGiycEEAAADAOx1vQQAAAEAEdmdBAAAAQJltYEEAAAAAQ1lbQQAAAECP31hBAAAAgAlBVkEAAAAA6zVSQQAAAIDFiE1BAAAAgNNQRkEAAAAASItAQQAAAADw/jtB",
          "dtype": "f8"
         },
         "yaxis": "y6"
        },
        {
         "marker": {
          "color": "blue"
         },
         "mode": "lines",
         "showlegend": false,
         "type": "scatter",
         "x": {
          "bdata": "AAAAAADgdUAAAAAAAIB2QAAAAAAAIHdAAAAAAADAd0AAAAAAAGB4QAAAAAAAAHlAAAAAAACgeUAAAAAAAEB6QAAAAAAA4HpAAAAAAACAe0AAAAAAACB8QAAAAAAAwHxAAAAAAABgfUAAAAAAAAB+QAAAAAAAoH5AAAAAAABAf0AAAAAAAOB/QAAAAAAAQIBA",
          "dtype": "f8"
         },
         "xaxis": "x7",
         "y": {
          "bdata": "AAAAAPQ2UkEAAADAIBBZQQAAAMAnAWBBAAAAwGpEYUEAAACA+T5iQQAAAIC3J2JBAAAAQOiVYUEAAAAAfadgQQAAAIA3lV5BAAAAgLyyXEEAAAAAFptbQQAAAIDnP1pBAAAAQCkoWEEAAACAO39TQQAAAABqs01BAAAAgKhtQ0EAAAAA3GQ7QQAAAADzyjhB",
          "dtype": "f8"
         },
         "yaxis": "y7"
        },
        {
         "marker": {
          "color": "blue"
         },
         "mode": "lines",
         "showlegend": false,
         "type": "scatter",
         "x": {
          "bdata": "AAAAAADgdUAAAAAAAIB2QAAAAAAAIHdAAAAAAADAd0AAAAAAAGB4QAAAAAAAAHlAAAAAAACgeUAAAAAAAEB6QAAAAAAA4HpAAAAAAACAe0AAAAAAACB8QAAAAAAAwHxAAAAAAABgfUAAAAAAAAB+QAAAAAAAoH5AAAAAAABAf0AAAAAAAOB/QAAAAAAAQIBA",
          "dtype": "f8"
         },
         "xaxis": "x8",
         "y": {
          "bdata": "AAAAQI3QUEEAAACAjVlWQQAAAICCPVtBAAAAQFAOXEEAAACAl35cQQAAAEAu4ltBAAAAAI+eW0EAAACAN0tbQQAAAEAcn1pBAAAAALQEWkEAAADA2AdZQQAAAIDFQldBAAAAgKumVEEAAACAYiNQQQAAAACVikhBAAAAAFuxQEEAAAAAVuw4QQAAAAAAWTdB",
          "dtype": "f8"
         },
         "yaxis": "y8"
        },
        {
         "marker": {
          "color": "blue"
         },
         "mode": "lines",
         "showlegend": false,
         "type": "scatter",
         "x": {
          "bdata": "AAAAAADgdUAAAAAAAIB2QAAAAAAAIHdAAAAAAADAd0AAAAAAAGB4QAAAAAAAAHlAAAAAAACgeUAAAAAAAEB6QAAAAAAA4HpAAAAAAACAe0AAAAAAACB8QAAAAAAAwHxAAAAAAABgfUAAAAAAAAB+QAAAAAAAoH5AAAAAAABAf0AAAAAAAOB/QAAAAAAAQIBA",
          "dtype": "f8"
         },
         "xaxis": "x9",
         "y": {
          "bdata": "AAAAwJeyWEEAAACgmtJhQQAAAMAJJWhBAAAAQHRIa0EAAABguPxtQQAAACB+OW5BAAAAINEibEEAAABASrxoQQAAAECHXGRBAAAAYM1cYUEAAACAR7NgQQAAAMCHg2BBAAAAwD3xX0EAAACALQdbQQAAAID92VRBAAAAANFMSkEAAAAAtDdAQQAAAAAOODtB",
          "dtype": "f8"
         },
         "yaxis": "y9"
        },
        {
         "marker": {
          "color": "blue"
         },
         "mode": "lines",
         "showlegend": false,
         "type": "scatter",
         "x": {
          "bdata": "AAAAAADgdUAAAAAAAIB2QAAAAAAAIHdAAAAAAADAd0AAAAAAAGB4QAAAAAAAAHlAAAAAAACgeUAAAAAAAEB6QAAAAAAA4HpAAAAAAACAe0AAAAAAACB8QAAAAAAAwHxAAAAAAABgfUAAAAAAAAB+QAAAAAAAoH5AAAAAAABAf0AAAAAAAOB/QAAAAAAAQIBA",
          "dtype": "f8"
         },
         "xaxis": "x10",
         "y": {
          "bdata": "AAAAQItvVEEAAACA5YJeQQAAACCWVWVBAAAAwJbhaEEAAACg09lrQQAAACB7hWxBAAAAIECjakEAAADA3ERnQQAAAEDtn2JBAAAAAOgkXkEAAABAhoxcQQAAAACHhVxBAAAAgL7VW0EAAAAAV7pXQQAAAEDIeVJBAAAAAIyqR0EAAAAAMo89QQAAAAA9XjhB",
          "dtype": "f8"
         },
         "yaxis": "y10"
        },
        {
         "marker": {
          "color": "blue"
         },
         "mode": "lines",
         "showlegend": false,
         "type": "scatter",
         "x": {
          "bdata": "AAAAAADgdUAAAAAAAIB2QAAAAAAAIHdAAAAAAADAd0AAAAAAAGB4QAAAAAAAAHlAAAAAAACgeUAAAAAAAEB6QAAAAAAA4HpAAAAAAACAe0AAAAAAACB8QAAAAAAAwHxAAAAAAABgfUAAAAAAAAB+QAAAAAAAoH5AAAAAAABAf0AAAAAAAOB/QAAAAAAAQIBA",
          "dtype": "f8"
         },
         "xaxis": "x11",
         "y": {
          "bdata": "AAAAgI7HWkEAAAAgJkNkQQAAAKBqeGxBAAAAIDGMcEEAAABgV5pyQQAAAEBkZ3RBAAAAAGryckEAAADgf3BwQQAAACBPpmdBAAAAQA2WYkEAAABAP1xhQQAAACCsPmFBAAAAIKjFYEEAAADAgMhcQQAAAACljVZBAAAAAI0ITUEAAAAAybRBQQAAAADRdTxB",
          "dtype": "f8"
         },
         "yaxis": "y11"
        },
        {
         "marker": {
          "color": "blue"
         },
         "mode": "lines",
         "showlegend": false,
         "type": "scatter",
         "x": {
          "bdata": "AAAAAADgdUAAAAAAAIB2QAAAAAAAIHdAAAAAAADAd0AAAAAAAGB4QAAAAAAAAHlAAAAAAACgeUAAAAAAAEB6QAAAAAAA4HpAAAAAAACAe0AAAAAAACB8QAAAAAAAwHxAAAAAAABgfUAAAAAAAAB+QAAAAAAAoH5AAAAAAABAf0AAAAAAAOB/QAAAAAAAQIBA",
          "dtype": "f8"
         },
         "xaxis": "x12",
         "y": {
          "bdata": "AAAAgNWJU0EAAAAA0x9dQQAAAOA7X2RBAAAAAJ98Z0EAAADAMmVqQQAAAIDs4GpBAAAA4OBmaUEAAAAgi51mQQAAAKAto2JBAAAAgHYNX0EAAACA2XZdQQAAAIAyx1xBAAAAgPV1W0EAAADA8w1XQQAAAACcnVFBAAAAAGUgRkEAAAAA0Pw6QQAAAABmsTVB",
          "dtype": "f8"
         },
         "yaxis": "y12"
        },
        {
         "marker": {
          "color": "blue"
         },
         "mode": "lines",
         "showlegend": false,
         "type": "scatter",
         "x": {
          "bdata": "AAAAAADgdUAAAAAAAIB2QAAAAAAAIHdAAAAAAADAd0AAAAAAAGB4QAAAAAAAAHlAAAAAAACgeUAAAAAAAEB6QAAAAAAA4HpAAAAAAACAe0AAAAAAACB8QAAAAAAAwHxAAAAAAABgfUAAAAAAAAB+QAAAAAAAoH5AAAAAAABAf0AAAAAAAOB/QAAAAAAAQIBA",
          "dtype": "f8"
         },
         "xaxis": "x13",
         "y": {
          "bdata": "AAAAAJ5eTkEAAAAAssJUQQAAAADUNFpBAAAAQKXwW0EAAACAqyxdQQAAAABQB11BAAAAgNeoXEEAAADAB6BbQQAAAICYQFpBAAAAwKs5WUEAAACAkiJYQQAAAEAyslZBAAAAwBlXVEEAAABA7T9QQQAAAIBZxUhBAAAAgEDgQEEAAAAAjn84QQAAAAB93zZB",
          "dtype": "f8"
         },
         "yaxis": "y13"
        },
        {
         "marker": {
          "color": "blue"
         },
         "mode": "lines",
         "showlegend": false,
         "type": "scatter",
         "x": {
          "bdata": "AAAAAADgdUAAAAAAAIB2QAAAAAAAIHdAAAAAAADAd0AAAAAAAGB4QAAAAAAAAHlAAAAAAACgeUAAAAAAAEB6QAAAAAAA4HpAAAAAAACAe0AAAAAAACB8QAAAAAAAwHxAAAAAAABgfUAAAAAAAAB+QAAAAAAAoH5AAAAAAABAf0AAAAAAAOB/QAAAAAAAQIBA",
          "dtype": "f8"
         },
         "xaxis": "x14",
         "y": {
          "bdata": "AAAAgIjsS0EAAACAPKpSQQAAAEARpFZBAAAAgAFCV0EAAACAAnhXQQAAAIA461ZBAAAAAOouV0EAAAAAEndXQQAAAIAyqFdBAAAAQLa2V0EAAACAi8xWQQAAAMAcFlVBAAAAAHqWUkEAAAAAkAlNQQAAAADwCUZBAAAAAJcGPkEAAAAAJgQ3QQAAAABbITZB",
          "dtype": "f8"
         },
         "yaxis": "y14"
        },
        {
         "marker": {
          "color": "blue"
         },
         "mode": "lines",
         "showlegend": false,
         "type": "scatter",
         "x": {
          "bdata": "AAAAAADgdUAAAAAAAIB2QAAAAAAAIHdAAAAAAADAd0AAAAAAAGB4QAAAAAAAAHlAAAAAAACgeUAAAAAAAEB6QAAAAAAA4HpAAAAAAACAe0AAAAAAACB8QAAAAAAAwHxAAAAAAABgfUAAAAAAAAB+QAAAAAAAoH5AAAAAAABAf0AAAAAAAOB/QAAAAAAAQIBA",
          "dtype": "f8"
         },
         "xaxis": "x15",
         "y": {
          "bdata": "AAAAAN0JSUEAAACAyPJQQQAAAID89lRBAAAAgKj7VUEAAACAm7NWQQAAAIAju1ZBAAAAgAyhV0EAAACAfsBYQQAAAABjdFpBAAAAAHiEXUEAAACA2YRgQQAAAOCVGmNBAAAAQLUqZUEAAACguXZoQQAAAMCyzmpBAAAAIAFDZkEAAACA7jNSQQAAAADqmC9B",
          "dtype": "f8"
         },
         "yaxis": "y15"
        },
        {
         "marker": {
          "color": "blue"
         },
         "mode": "lines",
         "showlegend": false,
         "type": "scatter",
         "x": {
          "bdata": "AAAAAADgdUAAAAAAAIB2QAAAAAAAIHdAAAAAAADAd0AAAAAAAGB4QAAAAAAAAHlAAAAAAACgeUAAAAAAAEB6QAAAAAAA4HpAAAAAAACAe0AAAAAAACB8QAAAAAAAwHxAAAAAAABgfUAAAAAAAAB+QAAAAAAAoH5AAAAAAABAf0AAAAAAAOB/QAAAAAAAQIBA",
          "dtype": "f8"
         },
         "xaxis": "x16",
         "y": {
          "bdata": "AAAAgL+rSUEAAAAAJfZQQQAAAABEXlRBAAAAQCfJVEEAAADADjRVQQAAAABt2FRBAAAAQA/EVEEAAABA42hUQQAAAECh0FNBAAAAgF8eU0EAAACArdBRQQAAAABP3U9BAAAAAPLxSkEAAACAasVDQQAAAACGITxBAAAAAEg/MEEAAAAALl8iQQAAAAAQeBdB",
          "dtype": "f8"
         },
         "yaxis": "y16"
        },
        {
         "marker": {
          "color": "blue"
         },
         "mode": "lines",
         "showlegend": false,
         "type": "scatter",
         "x": {
          "bdata": "AAAAAADgdUAAAAAAAIB2QAAAAAAAIHdAAAAAAADAd0AAAAAAAGB4QAAAAAAAAHlAAAAAAACgeUAAAAAAAEB6QAAAAAAA4HpAAAAAAACAe0AAAAAAACB8QAAAAAAAwHxAAAAAAABgfUAAAAAAAAB+QAAAAAAAoH5AAAAAAABAf0AAAAAAAOB/QAAAAAAAQIBA",
          "dtype": "f8"
         },
         "xaxis": "x21",
         "y": {
          "bdata": "AAAAAFPUT0EAAAAAagFVQQAAAEB2J1lBAAAAwAGNWUEAAABAPnxZQQAAAICevVhBAAAAALmAWEEAAACAVFNYQQAAAEBAE1hBAAAAAHy8V0EAAACA2rlWQQAAAICZ0FRBAAAAAMNBUkEAAACAEANMQQAAAABi2ERBAAAAABiPO0EAAAAA3M4zQQAAAABf6TFB",
          "dtype": "f8"
         },
         "yaxis": "y21"
        },
        {
         "marker": {
          "color": "blue"
         },
         "mode": "lines",
         "showlegend": false,
         "type": "scatter",
         "x": {
          "bdata": "AAAAAADgdUAAAAAAAIB2QAAAAAAAIHdAAAAAAADAd0AAAAAAAGB4QAAAAAAAAHlAAAAAAACgeUAAAAAAAEB6QAAAAAAA4HpAAAAAAACAe0AAAAAAACB8QAAAAAAAwHxAAAAAAABgfUAAAAAAAAB+QAAAAAAAoH5AAAAAAABAf0AAAAAAAOB/QAAAAAAAQIBA",
          "dtype": "f8"
         },
         "xaxis": "x22",
         "y": {
          "bdata": "AAAAgIaCS0EAAAAAc0dSQQAAAAAqz1VBAAAAgB0aVkEAAAAAAgpWQQAAAIBKUlVBAAAAgOJQVUEAAADAZ2dVQQAAAIC7XlVBAAAAgCtYVUEAAACAklVUQQAAAIAQpFJBAAAAAMgzUEEAAAAAf6xIQQAAAAAcfkJBAAAAAM9yOEEAAAAAXN4xQQAAAAAILzBB",
          "dtype": "f8"
         },
         "yaxis": "y22"
        },
        {
         "marker": {
          "color": "blue"
         },
         "mode": "lines",
         "showlegend": false,
         "type": "scatter",
         "x": {
          "bdata": "AAAAAADgdUAAAAAAAIB2QAAAAAAAIHdAAAAAAADAd0AAAAAAAGB4QAAAAAAAAHlAAAAAAACgeUAAAAAAAEB6QAAAAAAA4HpAAAAAAACAe0AAAAAAACB8QAAAAAAAwHxAAAAAAABgfUAAAAAAAAB+QAAAAAAAoH5AAAAAAABAf0AAAAAAAOB/QAAAAAAAQIBA",
          "dtype": "f8"
         },
         "xaxis": "x23",
         "y": {
          "bdata": "AAAAgIsTSkEAAAAAa25RQQAAAEDy+FRBAAAAgFRmVUEAAAAAkHhVQQAAAACD4lRBAAAAAL7yVEEAAAAAJfhUQQAAAEAm41RBAAAAQCzRVEEAAACA1c5TQQAAAIBvJ1JBAAAAAB2FT0EAAACAMypIQQAAAID3G0JBAAAAAFQjOEEAAAAAtqQxQQAAAABiDDBB",
          "dtype": "f8"
         },
         "yaxis": "y23"
        },
        {
         "marker": {
          "color": "blue"
         },
         "mode": "lines",
         "showlegend": false,
         "type": "scatter",
         "x": {
          "bdata": "AAAAAADgdUAAAAAAAIB2QAAAAAAAIHdAAAAAAADAd0AAAAAAAGB4QAAAAAAAAHlAAAAAAACgeUAAAAAAAEB6QAAAAAAA4HpAAAAAAACAe0AAAAAAACB8QAAAAAAAwHxAAAAAAABgfUAAAAAAAAB+QAAAAAAAoH5AAAAAAABAf0AAAAAAAOB/QAAAAAAAQIBA",
          "dtype": "f8"
         },
         "xaxis": "x24",
         "y": {
          "bdata": "AAAAACVkUUEAAAAA7xFaQQAAAIBlFWJBAAAAABPaZEEAAADgp1tnQQAAAECMsmdBAAAAQFVaZkEAAACgrdpjQQAAAMADWWBBAAAAAMZKW0EAAABAurhZQQAAAABH61hBAAAAwDR6V0EAAADAiGZTQQAAAAAXmk1BAAAAAKOQQkEAAAAAhu02QQAAAAC6wjJB",
          "dtype": "f8"
         },
         "yaxis": "y24"
        },
        {
         "marker": {
          "color": "blue"
         },
         "mode": "lines",
         "showlegend": false,
         "type": "scatter",
         "x": {
          "bdata": "AAAAAADgdUAAAAAAAIB2QAAAAAAAIHdAAAAAAADAd0AAAAAAAGB4QAAAAAAAAHlAAAAAAACgeUAAAAAAAEB6QAAAAAAA4HpAAAAAAACAe0AAAAAAACB8QAAAAAAAwHxAAAAAAABgfUAAAAAAAAB+QAAAAAAAoH5AAAAAAABAf0AAAAAAAOB/QAAAAAAAQIBA",
          "dtype": "f8"
         },
         "xaxis": "x25",
         "y": {
          "bdata": "AAAAAKEfTEEAAADAHUZTQQAAAEAt+ldBAAAAABNWWUEAAAAAkzhaQQAAAMBozVlBAAAAgAJVWUEAAAAAmkpYQQAAAEAx6VZBAAAAgA3BVUEAAACAo8JUQQAAAADeR1NBAAAAgE0yUUEAAAAAbN5KQQAAAAATJURBAAAAAGoFOkEAAAAAVvIxQQAAAACaWC9B",
          "dtype": "f8"
         },
         "yaxis": "y25"
        },
        {
         "marker": {
          "color": "blue"
         },
         "mode": "lines",
         "showlegend": false,
         "type": "scatter",
         "x": {
          "bdata": "AAAAAADgdUAAAAAAAIB2QAAAAAAAIHdAAAAAAADAd0AAAAAAAGB4QAAAAAAAAHlAAAAAAACgeUAAAAAAAEB6QAAAAAAA4HpAAAAAAACAe0AAAAAAACB8QAAAAAAAwHxAAAAAAABgfUAAAAAAAAB+QAAAAAAAoH5AAAAAAABAf0AAAAAAAOB/QAAAAAAAQIBA",
          "dtype": "f8"
         },
         "xaxis": "x26",
         "y": {
          "bdata": "AAAAAHJuUkEAAACAfKJbQQAAAGCvXGNBAAAA4Dt5ZkEAAADA23VpQQAAACA8D2pBAAAAYE9+aEEAAADA6jJlQQAAAACtmGBBAAAAgAGeWEEAAABAHsRUQQAAAMAkzFJBAAAAAHyoUEEAAACAi5ZKQQAAAIAzFUVBAAAAAGwqP0EAAAAAa2A2QQAAAADvKDJB",
          "dtype": "f8"
         },
         "yaxis": "y26"
        },
        {
         "marker": {
          "color": "blue"
         },
         "mode": "lines",
         "showlegend": false,
         "type": "scatter",
         "x": {
          "bdata": "AAAAAADgdUAAAAAAAIB2QAAAAAAAIHdAAAAAAADAd0AAAAAAAGB4QAAAAAAAAHlAAAAAAACgeUAAAAAAAEB6QAAAAAAA4HpAAAAAAACAe0AAAAAAACB8QAAAAAAAwHxAAAAAAABgfUAAAAAAAAB+QAAAAAAAoH5AAAAAAABAf0AAAAAAAOB/QAAAAAAAQIBA",
          "dtype": "f8"
         },
         "xaxis": "x27",
         "y": {
          "bdata": "AAAAADDwTUEAAAAAip9UQQAAAMDrA1pBAAAAQJqwW0EAAADACQpdQQAAAIButVxBAAAAgGkCXEEAAABA1a9aQQAAAIAV6lhBAAAAAMOCV0EAAAAAYXlWQQAAAABCEFVBAAAAgD/oUkEAAAAAiupNQQAAAIBjckZBAAAAAMnOPEEAAAAA0IQzQQAAAACHMzFB",
          "dtype": "f8"
         },
         "yaxis": "y27"
        },
        {
         "marker": {
          "color": "blue"
         },
         "mode": "lines",
         "showlegend": false,
         "type": "scatter",
         "x": {
          "bdata": "AAAAAADgdUAAAAAAAIB2QAAAAAAAIHdAAAAAAADAd0AAAAAAAGB4QAAAAAAAAHlAAAAAAACgeUAAAAAAAEB6QAAAAAAA4HpAAAAAAACAe0AAAAAAACB8QAAAAAAAwHxAAAAAAABgfUAAAAAAAAB+QAAAAAAAoH5AAAAAAABAf0AAAAAAAOB/QAAAAAAAQIBA",
          "dtype": "f8"
         },
         "xaxis": "x28",
         "y": {
          "bdata": "AAAAgMtsTUEAAAAAKrVTQQAAAABV0FdBAAAAAPFkWEEAAADACqZYQQAAAABjDlhBAAAAwFvjV0EAAAAANZhXQQAAAACKIVdBAAAAQJ++VkEAAABA+KxVQQAAAMAf+lNBAAAAwJCBUUEAAAAA4PlKQQAAAADLE0RBAAAAACioOkEAAAAAjEozQQAAAABHgDFB",
          "dtype": "f8"
         },
         "yaxis": "y28"
        },
        {
         "marker": {
          "color": "blue"
         },
         "mode": "lines",
         "showlegend": false,
         "type": "scatter",
         "x": {
          "bdata": "AAAAAADgdUAAAAAAAIB2QAAAAAAAIHdAAAAAAADAd0AAAAAAAGB4QAAAAAAAAHlAAAAAAACgeUAAAAAAAEB6QAAAAAAA4HpAAAAAAACAe0AAAAAAACB8QAAAAAAAwHxAAAAAAABgfUAAAAAAAAB+QAAAAAAAoH5AAAAAAABAf0AAAAAAAOB/QAAAAAAAQIBA",
          "dtype": "f8"
         },
         "xaxis": "x29",
         "y": {
          "bdata": "AAAAAKEBUUEAAADA+EtZQQAAAICJdGFBAAAAgPvzY0EAAABAfRZmQQAAAIDjUmZBAAAAQBM+ZUEAAABgxBZjQQAAACB3O2BBAAAAAEN3XEEAAAAA1j5bQQAAAACUXVpBAAAAALu9WEEAAACA8mhUQQAAAICc4E5BAAAAgNnzQkEAAAAA8mc2QQAAAABwbjFB",
          "dtype": "f8"
         },
         "yaxis": "y29"
        },
        {
         "marker": {
          "color": "blue"
         },
         "mode": "lines",
         "showlegend": false,
         "type": "scatter",
         "x": {
          "bdata": "AAAAAADgdUAAAAAAAIB2QAAAAAAAIHdAAAAAAADAd0AAAAAAAGB4QAAAAAAAAHlAAAAAAACgeUAAAAAAAEB6QAAAAAAA4HpAAAAAAACAe0AAAAAAACB8QAAAAAAAwHxAAAAAAABgfUAAAAAAAAB+QAAAAAAAoH5AAAAAAABAf0AAAAAAAOB/QAAAAAAAQIBA",
          "dtype": "f8"
         },
         "xaxis": "x30",
         "y": {
          "bdata": "AAAAAPKWV0EAAABgQBdhQQAAAGC7IWdBAAAAAOU8akEAAACgIeJsQQAAAIBwGW1BAAAA4BD2akEAAAAAQ3lnQQAAAIASBmNBAAAAgKlHX0EAAAAA+HtdQQAAAIAP9lxBAAAAgBO7W0EAAACAaD1XQQAAAAAh0lFBAAAAgLBnRkEAAAAAAxY7QQAAAAANnDVB",
          "dtype": "f8"
         },
         "yaxis": "y30"
        },
        {
         "marker": {
          "color": "blue"
         },
         "mode": "lines",
         "showlegend": false,
         "type": "scatter",
         "x": {
          "bdata": "AAAAAADgdUAAAAAAAIB2QAAAAAAAIHdAAAAAAADAd0AAAAAAAGB4QAAAAAAAAHlAAAAAAACgeUAAAAAAAEB6QAAAAAAA4HpAAAAAAACAe0AAAAAAACB8QAAAAAAAwHxAAAAAAABgfUAAAAAAAAB+QAAAAAAAoH5AAAAAAABAf0AAAAAAAOB/QAAAAAAAQIBA",
          "dtype": "f8"
         },
         "xaxis": "x31",
         "y": {
          "bdata": "AAAAQATcVkEAAABACLxgQQAAACAPyGZBAAAAILDgaUEAAAAAPJhsQQAAAEDXw2xBAAAAIHCTakEAAACAuRxnQQAAAKBxh2JBAAAAgOMOXkEAAADAMBVcQQAAAIDdTltBAAAAQIvoWUEAAACAB55VQQAAAMDTnFBBAAAAAPIuRUEAAAAAWJg5QQAAAAAB7DNB",
          "dtype": "f8"
         },
         "yaxis": "y31"
        },
        {
         "marker": {
          "color": "blue"
         },
         "mode": "lines",
         "showlegend": false,
         "type": "scatter",
         "x": {
          "bdata": "AAAAAADgdUAAAAAAAIB2QAAAAAAAIHdAAAAAAADAd0AAAAAAAGB4QAAAAAAAAHlAAAAAAACgeUAAAAAAAEB6QAAAAAAA4HpAAAAAAACAe0AAAAAAACB8QAAAAAAAwHxAAAAAAABgfUAAAAAAAAB+QAAAAAAAoH5AAAAAAABAf0AAAAAAAOB/QAAAAAAAQIBA",
          "dtype": "f8"
         },
         "xaxis": "x32",
         "y": {
          "bdata": "AAAAACsQU0EAAADAK3lbQQAAAOADgGJBAAAAgAHJZEEAAABAG8ZmQQAAACBD3WZBAAAAwOx7ZUEAAABgPRBjQQAAAAB9wV9BAAAAQKPsWkEAAACAKFlZQQAAAICVZFhBAAAAQL6/VkEAAACAJrhSQQAAAIDKe0xBAAAAADe7QUEAAAAAWlc1QQAAAAC/2TBB",
          "dtype": "f8"
         },
         "yaxis": "y32"
        },
        {
         "marker": {
          "color": "blue"
         },
         "mode": "lines",
         "showlegend": false,
         "type": "scatter",
         "x": {
          "bdata": "AAAAAADgdUAAAAAAAIB2QAAAAAAAIHdAAAAAAADAd0AAAAAAAGB4QAAAAAAAAHlAAAAAAACgeUAAAAAAAEB6QAAAAAAA4HpAAAAAAACAe0AAAAAAACB8QAAAAAAAwHxAAAAAAABgfUAAAAAAAAB+QAAAAAAAoH5AAAAAAABAf0AAAAAAAOB/QAAAAAAAQIBA",
          "dtype": "f8"
         },
         "xaxis": "x33",
         "y": {
          "bdata": "AAAAADPiS0EAAACAD9RSQQAAAABpEVdBAAAAAOztV0EAAACABWdYQQAAAIDc5ldBAAAAAKabV0EAAACAgRtXQQAAAIC/VlZBAAAAwEuxVUEAAAAA9blUQQAAAAAtE1NBAAAAAM7CUEEAAAAAefdJQQAAAIDTbENBAAAAANunOUEAAAAAQDIyQQAAAAChZjBB",
          "dtype": "f8"
         },
         "yaxis": "y33"
        },
        {
         "marker": {
          "color": "blue"
         },
         "mode": "lines",
         "showlegend": false,
         "type": "scatter",
         "x": {
          "bdata": "AAAAAADgdUAAAAAAAIB2QAAAAAAAIHdAAAAAAADAd0AAAAAAAGB4QAAAAAAAAHlAAAAAAACgeUAAAAAAAEB6QAAAAAAA4HpAAAAAAACAe0AAAAAAACB8QAAAAAAAwHxAAAAAAABgfUAAAAAAAAB+QAAAAAAAoH5AAAAAAABAf0AAAAAAAOB/QAAAAAAAQIBA",
          "dtype": "f8"
         },
         "xaxis": "x34",
         "y": {
          "bdata": "AAAAgAn7SUEAAAAAI4FRQQAAAIAMGVVBAAAAQOmbVUEAAAAAK7FVQQAAAIALF1VBAAAAgLM7VUEAAACAbG1VQQAAAABEYlVBAAAAAKxdVUEAAACAqHBUQQAAAADUxFJBAAAAQJZnUEEAAAAASERJQQAAAACRFUNBAAAAAHTQOUEAAAAAo5MzQQAAAADIPDJB",
          "dtype": "f8"
         },
         "yaxis": "y34"
        },
        {
         "marker": {
          "color": "blue"
         },
         "mode": "lines",
         "showlegend": false,
         "type": "scatter",
         "x": {
          "bdata": "AAAAAADgdUAAAAAAAIB2QAAAAAAAIHdAAAAAAADAd0AAAAAAAGB4QAAAAAAAAHlAAAAAAACgeUAAAAAAAEB6QAAAAAAA4HpAAAAAAACAe0AAAAAAACB8QAAAAAAAwHxAAAAAAABgfUAAAAAAAAB+QAAAAAAAoH5AAAAAAABAf0AAAAAAAOB/QAAAAAAAQIBA",
          "dtype": "f8"
         },
         "xaxis": "x35",
         "y": {
          "bdata": "AAAAgAakSEEAAABA0bFQQQAAAIDtTlRBAAAAAGrEVEEAAACAZw5VQQAAAIAUs1RBAAAAAAkEVUEAAABAH4RVQQAAAEBvUFZBAAAAQAurV0EAAACAzPFYQQAAAICdm1pBAAAAAGOAW0EAAAAA3p1bQQAAAEDuS1xBAAAAQDnyV0EAAAAAlBdEQQAAAABqziRB",
          "dtype": "f8"
         },
         "yaxis": "y35"
        },
        {
         "marker": {
          "color": "blue"
         },
         "mode": "lines",
         "showlegend": false,
         "type": "scatter",
         "x": {
          "bdata": "AAAAAADgdUAAAAAAAIB2QAAAAAAAIHdAAAAAAADAd0AAAAAAAGB4QAAAAAAAAHlAAAAAAACgeUAAAAAAAEB6QAAAAAAA4HpAAAAAAACAe0AAAAAAACB8QAAAAAAAwHxAAAAAAABgfUAAAAAAAAB+QAAAAAAAoH5AAAAAAABAf0AAAAAAAOB/QAAAAAAAQIBA",
          "dtype": "f8"
         },
         "xaxis": "x36",
         "y": {
          "bdata": "AAAAAAlZSUEAAABANb1QQQAAAAClJlRBAAAAAPWKVEEAAABAKs5UQQAAAMD5X1RBAAAAAN0oVEEAAAAAPatTQQAAAACmIlNBAAAAgIh+UkEAAACAUUZRQQAAAIAv905BAAAAAAQvSkEAAAAAmDBDQQAAAABsOztBAAAAAPidL0EAAAAAmhciQQAAAADobBdB",
          "dtype": "f8"
         },
         "yaxis": "y36"
        },
        {
         "marker": {
          "color": "blue"
         },
         "mode": "lines",
         "showlegend": false,
         "type": "scatter",
         "x": {
          "bdata": "AAAAAADgdUAAAAAAAIB2QAAAAAAAIHdAAAAAAADAd0AAAAAAAGB4QAAAAAAAAHlAAAAAAACgeUAAAAAAAEB6QAAAAAAA4HpAAAAAAACAe0AAAAAAACB8QAAAAAAAwHxAAAAAAABgfUAAAAAAAAB+QAAAAAAAoH5AAAAAAABAf0AAAAAAAOB/QAAAAAAAQIBA",
          "dtype": "f8"
         },
         "xaxis": "x41",
         "y": {
          "bdata": "AAAAAPOsT0EAAACATwFVQQAAAICQ61lBAAAAAF3jWkEAAAAAhWZbQQAAAIAn61pBAAAAAFLzWkEAAABACPRaQQAAAICatlpBAAAAwIt1WkEAAACACHdZQQAAAABMr1dBAAAAQAUJVUEAAABAk3hQQQAAAIAxGUlBAAAAAIUmQUEAAAAApAo6QQAAAACtzjhB",
          "dtype": "f8"
         },
         "yaxis": "y41"
        },
        {
         "marker": {
          "color": "blue"
         },
         "mode": "lines",
         "showlegend": false,
         "type": "scatter",
         "x": {
          "bdata": "AAAAAADgdUAAAAAAAIB2QAAAAAAAIHdAAAAAAADAd0AAAAAAAGB4QAAAAAAAAHlAAAAAAACgeUAAAAAAAEB6QAAAAAAA4HpAAAAAAACAe0AAAAAAACB8QAAAAAAAwHxAAAAAAABgfUAAAAAAAAB+QAAAAAAAoH5AAAAAAABAf0AAAAAAAOB/QAAAAAAAQIBA",
          "dtype": "f8"
         },
         "xaxis": "x42",
         "y": {
          "bdata": "AAAAAIaYTEEAAADAvQ5TQQAAAMBuQ1dBAAAAgPkFWEEAAAAAB31YQQAAAIBmG1hBAAAAAH93WEEAAABAPdJYQQAAAIApEVlBAAAAQP9TWUEAAADAL3xYQQAAAIBJt1ZBAAAAgOwcVEEAAACANWpPQQAAAIBDI0hBAAAAANu/QEEAAAAA52c6QQAAAAB2ijlB",
          "dtype": "f8"
         },
         "yaxis": "y42"
        },
        {
         "marker": {
          "color": "blue"
         },
         "mode": "lines",
         "showlegend": false,
         "type": "scatter",
         "x": {
          "bdata": "AAAAAADgdUAAAAAAAIB2QAAAAAAAIHdAAAAAAADAd0AAAAAAAGB4QAAAAAAAAHlAAAAAAACgeUAAAAAAAEB6QAAAAAAA4HpAAAAAAACAe0AAAAAAACB8QAAAAAAAwHxAAAAAAABgfUAAAAAAAAB+QAAAAAAAoH5AAAAAAABAf0AAAAAAAOB/QAAAAAAAQIBA",
          "dtype": "f8"
         },
         "xaxis": "x43",
         "y": {
          "bdata": "AAAAAKPSS0EAAACAz6VSQQAAAIB08lZBAAAAwHS1V0EAAACAKR5YQQAAAADDwVdBAAAAgPwAWEEAAACAFG5YQQAAAICWolhBAAAAgMjaWEEAAAAA8vpXQQAAAEBNM1ZBAAAAAMuwU0EAAACAJ8dOQQAAAIB0fkdBAAAAACFIQEEAAAAA7kk5QQAAAAC6jThB",
          "dtype": "f8"
         },
         "yaxis": "y43"
        },
        {
         "marker": {
          "color": "blue"
         },
         "mode": "lines",
         "showlegend": false,
         "type": "scatter",
         "x": {
          "bdata": "AAAAAADgdUAAAAAAAIB2QAAAAAAAIHdAAAAAAADAd0AAAAAAAGB4QAAAAAAAAHlAAAAAAACgeUAAAAAAAEB6QAAAAAAA4HpAAAAAAACAe0AAAAAAACB8QAAAAAAAwHxAAAAAAABgfUAAAAAAAAB+QAAAAAAAoH5AAAAAAABAf0AAAAAAAOB/QAAAAAAAQIBA",
          "dtype": "f8"
         },
         "xaxis": "x44",
         "y": {
          "bdata": "AAAAgD3zVEEAAACAraZfQQAAAKABb2ZBAAAAgI9sakEAAACgIxpuQQAAAIDp125BAAAAoFYXbUEAAABACHZpQQAAACCOfWRBAAAAgLDEYEEAAACA47JfQQAAAMCzYV9BAAAAAIE7XkEAAAAAUKFZQQAAAICxw1NBAAAAACD0SEEAAAAAznc+QQAAAAB+BTlB",
          "dtype": "f8"
         },
         "yaxis": "y44"
        },
        {
         "marker": {
          "color": "blue"
         },
         "mode": "lines",
         "showlegend": false,
         "type": "scatter",
         "x": {
          "bdata": "AAAAAADgdUAAAAAAAIB2QAAAAAAAIHdAAAAAAADAd0AAAAAAAGB4QAAAAAAAAHlAAAAAAACgeUAAAAAAAEB6QAAAAAAA4HpAAAAAAACAe0AAAAAAACB8QAAAAAAAwHxAAAAAAABgfUAAAAAAAAB+QAAAAAAAoH5AAAAAAABAf0AAAAAAAOB/QAAAAAAAQIBA",
          "dtype": "f8"
         },
         "xaxis": "x45",
         "y": {
          "bdata": "AAAAAPYLTUEAAACAdc5UQQAAAMCNxFtBAAAAwKr4XkEAAADg1OBgQQAAAKCdHmFBAAAAwIe2YEEAAACASIBfQQAAAABeoFxBAAAAgH+GWkEAAACAgYNZQQAAAADpTlhBAAAAgBVqVkEAAACA/ldSQQAAAAAnTUxBAAAAAAkRQ0EAAAAAL2M7QQAAAABwdzlB",
          "dtype": "f8"
         },
         "yaxis": "y45"
        },
        {
         "marker": {
          "color": "blue"
         },
         "mode": "lines",
         "showlegend": false,
         "type": "scatter",
         "x": {
          "bdata": "AAAAAADgdUAAAAAAAIB2QAAAAAAAIHdAAAAAAADAd0AAAAAAAGB4QAAAAAAAAHlAAAAAAACgeUAAAAAAAEB6QAAAAAAA4HpAAAAAAACAe0AAAAAAACB8QAAAAAAAwHxAAAAAAABgfUAAAAAAAAB+QAAAAAAAoH5AAAAAAABAf0AAAAAAAOB/QAAAAAAAQIBA",
          "dtype": "f8"
         },
         "xaxis": "x46",
         "y": {
          "bdata": "AAAAANtlVkEAAADA89VgQQAAAGC32GdBAAAAoPwnbEEAAACgpyZwQQAAAABMqXBBAAAAAAx6b0EAAABg2CFrQQAAAACd7GRBAAAAAA/UXUEAAAAAStZYQQAAAECnrVZBAAAAwCp6VEEAAACAH69QQQAAAADXO0tBAAAAAOgbRUEAAAAA4l8/QQAAAABelDpB",
          "dtype": "f8"
         },
         "yaxis": "y46"
        },
        {
         "marker": {
          "color": "blue"
         },
         "mode": "lines",
         "showlegend": false,
         "type": "scatter",
         "x": {
          "bdata": "AAAAAADgdUAAAAAAAIB2QAAAAAAAIHdAAAAAAADAd0AAAAAAAGB4QAAAAAAAAHlAAAAAAACgeUAAAAAAAEB6QAAAAAAA4HpAAAAAAACAe0AAAAAAACB8QAAAAAAAwHxAAAAAAABgfUAAAAAAAAB+QAAAAAAAoH5AAAAAAABAf0AAAAAAAOB/QAAAAAAAQIBA",
          "dtype": "f8"
         },
         "xaxis": "x47",
         "y": {
          "bdata": "AAAAANpIUEEAAACAKaZWQQAAAADRnF1BAAAAYPVDYEEAAABA6YhhQQAAACAFpmFBAAAAIDNSYUEAAADASXpgQQAAAIATVl5BAAAAAKCAXEEAAAAAkpVbQQAAAIBmW1pBAAAAQK5WWEEAAABAJcdTQQAAAIDDCU5BAAAAAA20Q0EAAAAA9qI7QQAAAADm+ThB",
          "dtype": "f8"
         },
         "yaxis": "y47"
        },
        {
         "marker": {
          "color": "blue"
         },
         "mode": "lines",
         "showlegend": false,
         "type": "scatter",
         "x": {
          "bdata": "AAAAAADgdUAAAAAAAIB2QAAAAAAAIHdAAAAAAADAd0AAAAAAAGB4QAAAAAAAAHlAAAAAAACgeUAAAAAAAEB6QAAAAAAA4HpAAAAAAACAe0AAAAAAACB8QAAAAAAAwHxAAAAAAABgfUAAAAAAAAB+QAAAAAAAoH5AAAAAAABAf0AAAAAAAOB/QAAAAAAAQIBA",
          "dtype": "f8"
         },
         "xaxis": "x48",
         "y": {
          "bdata": "AAAAgDDSTUEAAACAvi1UQQAAAABCDVlBAAAAwOVQWkEAAAAAoR5bQQAAAMA3zlpBAAAAAGrgWkEAAADA4cNaQQAAAIAbMVpBAAAAQCrtWUEAAAAAmOtYQQAAAEBhPVdBAAAAQMGpVEEAAAAAoTpQQQAAAACwrkhBAAAAgK+sQEEAAAAASRQ5QQAAAACSgTdB",
          "dtype": "f8"
         },
         "yaxis": "y48"
        },
        {
         "marker": {
          "color": "blue"
         },
         "mode": "lines",
         "showlegend": false,
         "type": "scatter",
         "x": {
          "bdata": "AAAAAADgdUAAAAAAAIB2QAAAAAAAIHdAAAAAAADAd0AAAAAAAGB4QAAAAAAAAHlAAAAAAACgeUAAAAAAAEB6QAAAAAAA4HpAAAAAAACAe0AAAAAAACB8QAAAAAAAwHxAAAAAAABgfUAAAAAAAAB+QAAAAAAAoH5AAAAAAABAf0AAAAAAAOB/QAAAAAAAQIBA",
          "dtype": "f8"
         },
         "xaxis": "x49",
         "y": {
          "bdata": "AAAAwDBoWEEAAADgsalhQQAAAIDsDmhBAAAAQN1ha0EAAACAqF1uQQAAAMAOtW5BAAAAwOvabEEAAACA7plpQQAAAKDGXmVBAAAAYL9hYkEAAACgI8BhQQAAACAKomFBAAAAoAMGYUEAAADAcMdcQQAAAIDAJ1ZBAAAAgGvES0EAAACAffpAQQAAAAAFMjxB",
          "dtype": "f8"
         },
         "yaxis": "y49"
        },
        {
         "marker": {
          "color": "blue"
         },
         "mode": "lines",
         "showlegend": false,
         "type": "scatter",
         "x": {
          "bdata": "AAAAAADgdUAAAAAAAIB2QAAAAAAAIHdAAAAAAADAd0AAAAAAAGB4QAAAAAAAAHlAAAAAAACgeUAAAAAAAEB6QAAAAAAA4HpAAAAAAACAe0AAAAAAACB8QAAAAAAAwHxAAAAAAABgfUAAAAAAAAB+QAAAAAAAoH5AAAAAAABAf0AAAAAAAOB/QAAAAAAAQIBA",
          "dtype": "f8"
         },
         "xaxis": "x50",
         "y": {
          "bdata": "AAAAALF9XEEAAACgFcVkQQAAAEAkaGxBAAAAwFhHcEEAAACAHxlyQQAAAIAZy3NBAAAAwDJzckEAAADAhEFwQQAAAODmEGhBAAAAoJq2Y0EAAACAG7JiQQAAAKDejWJBAAAAQBMEYkEAAADASoVeQQAAAABclVdBAAAAALa3TUEAAAAA4N5BQQAAAADRUDxB",
          "dtype": "f8"
         },
         "yaxis": "y50"
        },
        {
         "marker": {
          "color": "blue"
         },
         "mode": "lines",
         "showlegend": false,
         "type": "scatter",
         "x": {
          "bdata": "AAAAAADgdUAAAAAAAIB2QAAAAAAAIHdAAAAAAADAd0AAAAAAAGB4QAAAAAAAAHlAAAAAAACgeUAAAAAAAEB6QAAAAAAA4HpAAAAAAACAe0AAAAAAACB8QAAAAAAAwHxAAAAAAABgfUAAAAAAAAB+QAAAAAAAoH5AAAAAAABAf0AAAAAAAOB/QAAAAAAAQIBA",
          "dtype": "f8"
         },
         "xaxis": "x51",
         "y": {
          "bdata": "AAAAAAk/W0EAAAAgeZpkQQAAAKBkN21BAAAAwOMPcUEAAABgxMZ0QQAAAEASU3VBAAAAoJrXc0EAAAAAlk1xQQAAAOCO6GhBAAAAAJSYY0EAAACgtFRiQQAAAEC1RWJBAAAAIHXQYUEAAAAAoYReQQAAAMC53FdBAAAAgLDdTkEAAAAA6ldCQQAAAAAp2TxB",
          "dtype": "f8"
         },
         "yaxis": "y51"
        },
        {
         "marker": {
          "color": "blue"
         },
         "mode": "lines",
         "showlegend": false,
         "type": "scatter",
         "x": {
          "bdata": "AAAAAADgdUAAAAAAAIB2QAAAAAAAIHdAAAAAAADAd0AAAAAAAGB4QAAAAAAAAHlAAAAAAACgeUAAAAAAAEB6QAAAAAAA4HpAAAAAAACAe0AAAAAAACB8QAAAAAAAwHxAAAAAAABgfUAAAAAAAAB+QAAAAAAAoH5AAAAAAABAf0AAAAAAAOB/QAAAAAAAQIBA",
          "dtype": "f8"
         },
         "xaxis": "x52",
         "y": {
          "bdata": "AAAAgGqwU0EAAADAJCBdQQAAACDcXGRBAAAA4P+wZ0EAAABgB6pqQQAAAECKQmtBAAAAYPrmaUEAAACAjC1nQQAAAAA/NGNBAAAAQPMpYEEAAAAAHbNeQQAAAEA3H15BAAAAADvPXEEAAACA5SFYQQAAAICpflJBAAAAgFlkR0EAAAAAYhA8QQAAAADOqjZB",
          "dtype": "f8"
         },
         "yaxis": "y52"
        },
        {
         "marker": {
          "color": "blue"
         },
         "mode": "lines",
         "showlegend": false,
         "type": "scatter",
         "x": {
          "bdata": "AAAAAADgdUAAAAAAAIB2QAAAAAAAIHdAAAAAAADAd0AAAAAAAGB4QAAAAAAAAHlAAAAAAACgeUAAAAAAAEB6QAAAAAAA4HpAAAAAAACAe0AAAAAAACB8QAAAAAAAwHxAAAAAAABgfUAAAAAAAAB+QAAAAAAAoH5AAAAAAABAf0AAAAAAAOB/QAAAAAAAQIBA",
          "dtype": "f8"
         },
         "xaxis": "x53",
         "y": {
          "bdata": "AAAAAFkJUEEAAADAvqVVQQAAAACkbltBAAAAAP1LXUEAAACAedFeQQAAAADJql5BAAAAACg/XkEAAABA01RdQQAAAEDYuVtBAAAAwFquWkEAAACAHqdZQQAAAIDyO1hBAAAAACDeVUEAAAAAmIFRQQAAAACW+UpBAAAAgCdmQkEAAAAAynw7QQAAAAC1tDlB",
          "dtype": "f8"
         },
         "yaxis": "y53"
        },
        {
         "marker": {
          "color": "blue"
         },
         "mode": "lines",
         "showlegend": false,
         "type": "scatter",
         "x": {
          "bdata": "AAAAAADgdUAAAAAAAIB2QAAAAAAAIHdAAAAAAADAd0AAAAAAAGB4QAAAAAAAAHlAAAAAAACgeUAAAAAAAEB6QAAAAAAA4HpAAAAAAACAe0AAAAAAACB8QAAAAAAAwHxAAAAAAABgfUAAAAAAAAB+QAAAAAAAoH5AAAAAAABAf0AAAAAAAOB/QAAAAAAAQIBA",
          "dtype": "f8"
         },
         "xaxis": "x54",
         "y": {
          "bdata": "AAAAgB4dTkEAAABA8eJTQQAAAAAvD1hBAAAAQJrCWEEAAACAjgBZQQAAAIBMkFhBAAAAAObnWEEAAAAA5lpZQQAAAAB8q1lBAAAAAIzaWUEAAACAhu5YQQAAAMCIMFdBAAAAAF+KVEEAAABAxwtQQQAAAACuZ0hBAAAAgCLgQEEAAAAAFFE6QQAAAACnZDlB",
          "dtype": "f8"
         },
         "yaxis": "y54"
        },
        {
         "marker": {
          "color": "blue"
         },
         "mode": "lines",
         "showlegend": false,
         "type": "scatter",
         "x": {
          "bdata": "AAAAAADgdUAAAAAAAIB2QAAAAAAAIHdAAAAAAADAd0AAAAAAAGB4QAAAAAAAAHlAAAAAAACgeUAAAAAAAEB6QAAAAAAA4HpAAAAAAACAe0AAAAAAACB8QAAAAAAAwHxAAAAAAABgfUAAAAAAAAB+QAAAAAAAoH5AAAAAAABAf0AAAAAAAOB/QAAAAAAAQIBA",
          "dtype": "f8"
         },
         "xaxis": "x55",
         "y": {
          "bdata": "AAAAgP0zSUEAAABAXSZRQQAAAACDMVVBAAAAgKp4VkEAAABARlNXQQAAAIBXfVdBAAAAAI14WEEAAAAABd5ZQQAAAIDB8FtBAAAAgIPVX0EAAAAAbT5iQQAAAMDfiGVBAAAAQAK1aUEAAABgi+lsQQAAAOBTFHBBAAAAIMnfakEAAACAY0NWQQAAAACNGTJB",
          "dtype": "f8"
         },
         "yaxis": "y55"
        },
        {
         "marker": {
          "color": "blue"
         },
         "mode": "lines",
         "showlegend": false,
         "type": "scatter",
         "x": {
          "bdata": "AAAAAADgdUAAAAAAAIB2QAAAAAAAIHdAAAAAAADAd0AAAAAAAGB4QAAAAAAAAHlAAAAAAACgeUAAAAAAAEB6QAAAAAAA4HpAAAAAAACAe0AAAAAAACB8QAAAAAAAwHxAAAAAAABgfUAAAAAAAAB+QAAAAAAAoH5AAAAAAABAf0AAAAAAAOB/QAAAAAAAQIBA",
          "dtype": "f8"
         },
         "xaxis": "x56",
         "y": {
          "bdata": "AAAAACpwSUEAAADA5rRQQQAAAABGW1RBAAAAgJMeVUEAAAAAD6dVQQAAAAD2XlVBAAAAgAkzVUEAAABATuxUQQAAAMCLd1RBAAAAAJ/YU0EAAABAI5RSQQAAAIBGq1BBAAAAAIpWTEEAAACAQ85EQQAAAACckD1BAAAAAO/pMEEAAAAADN4iQQAAAABgxxdB",
          "dtype": "f8"
         },
         "yaxis": "y56"
        },
        {
         "marker": {
          "color": "blue"
         },
         "mode": "lines",
         "showlegend": false,
         "type": "scatter",
         "x": {
          "bdata": "AAAAAADgdUAAAAAAAIB2QAAAAAAAIHdAAAAAAADAd0AAAAAAAGB4QAAAAAAAAHlAAAAAAACgeUAAAAAAAEB6QAAAAAAA4HpAAAAAAACAe0AAAAAAACB8QAAAAAAAwHxAAAAAAABgfUAAAAAAAAB+QAAAAAAAoH5AAAAAAABAf0AAAAAAAOB/QAAAAAAAQIBA",
          "dtype": "f8"
         },
         "xaxis": "x61",
         "y": {
          "bdata": "AAAAALRyUEEAAADAkMBUQQAAAADFcVhBAAAAQO/RWEEAAABAqTBZQQAAAABpZVhBAAAAgO6FV0EAAAAAr59WQQAAAACxXFVBAAAAgDc4VEEAAAAAkNdSQQAAAICBL1FBAAAAAIzsTUEAAACA/4hHQQAAAADeX0JBAAAAAHa3OkEAAAAAz7g1QQAAAAA7MjVB",
          "dtype": "f8"
         },
         "yaxis": "y61"
        },
        {
         "marker": {
          "color": "blue"
         },
         "mode": "lines",
         "showlegend": false,
         "type": "scatter",
         "x": {
          "bdata": "AAAAAADgdUAAAAAAAIB2QAAAAAAAIHdAAAAAAADAd0AAAAAAAGB4QAAAAAAAAHlAAAAAAACgeUAAAAAAAEB6QAAAAAAA4HpAAAAAAACAe0AAAAAAACB8QAAAAAAAwHxAAAAAAABgfUAAAAAAAAB+QAAAAAAAoH5AAAAAAABAf0AAAAAAAOB/QAAAAAAAQIBA",
          "dtype": "f8"
         },
         "xaxis": "x62",
         "y": {
          "bdata": "AAAAgIGuTEEAAADAjXJSQQAAAIBf2VVBAAAAAHE7VkEAAAAAGGZWQQAAAICBw1VBAAAAADRbVUEAAACAp/VUQQAAAABrbVRBAAAAgKPDU0EAAACALqpSQQAAAABs6VBBAAAAgH1YTUEAAACAme1GQQAAAAAK3EFBAAAAALxtOUEAAAAAirA0QQAAAADTLzRB",
          "dtype": "f8"
         },
         "yaxis": "y62"
        },
        {
         "marker": {
          "color": "blue"
         },
         "mode": "lines",
         "showlegend": false,
         "type": "scatter",
         "x": {
          "bdata": "AAAAAADgdUAAAAAAAIB2QAAAAAAAIHdAAAAAAADAd0AAAAAAAGB4QAAAAAAAAHlAAAAAAACgeUAAAAAAAEB6QAAAAAAA4HpAAAAAAACAe0AAAAAAACB8QAAAAAAAwHxAAAAAAABgfUAAAAAAAAB+QAAAAAAAoH5AAAAAAABAf0AAAAAAAOB/QAAAAAAAQIBA",
          "dtype": "f8"
         },
         "xaxis": "x63",
         "y": {
          "bdata": "AAAAgI3AS0EAAAAAR8dRQQAAAIAn3FRBAAAAAN5OVUEAAADABqhVQQAAAID4+FRBAAAAgC6UVEEAAACAbvpTQQAAAEDJMVNBAAAAgHFnUkEAAABAeDhRQQAAAICLLE9BAAAAgLUdS0EAAACAkUhFQQAAAAC+00BBAAAAAJ64OEEAAAAA7oY0QQAAAABWdzRB",
          "dtype": "f8"
         },
         "yaxis": "y63"
        },
        {
         "marker": {
          "color": "blue"
         },
         "mode": "lines",
         "showlegend": false,
         "type": "scatter",
         "x": {
          "bdata": "AAAAAADgdUAAAAAAAIB2QAAAAAAAIHdAAAAAAADAd0AAAAAAAGB4QAAAAAAAAHlAAAAAAACgeUAAAAAAAEB6QAAAAAAA4HpAAAAAAACAe0AAAAAAACB8QAAAAAAAwHxAAAAAAABgfUAAAAAAAAB+QAAAAAAAoH5AAAAAAABAf0AAAAAAAOB/QAAAAAAAQIBA",
          "dtype": "f8"
         },
         "xaxis": "x64",
         "y": {
          "bdata": "AAAAgBDLU0EAAAAAq9BcQQAAAAAA/2NBAAAAwKhVZ0EAAADAF4JqQQAAAAC8DWtBAAAAYOkraUEAAABgbbhlQQAAAKBP9mBBAAAAgC+HWkEAAACACpNYQQAAAICqIlhBAAAAgAVCV0EAAABA+fpTQQAAAICyNk9BAAAAAIQ9REEAAAAAJKg5QQAAAACl4zVB",
          "dtype": "f8"
         },
         "yaxis": "y64"
        },
        {
         "marker": {
          "color": "blue"
         },
         "mode": "lines",
         "showlegend": false,
         "type": "scatter",
         "x": {
          "bdata": "AAAAAADgdUAAAAAAAIB2QAAAAAAAIHdAAAAAAADAd0AAAAAAAGB4QAAAAAAAAHlAAAAAAACgeUAAAAAAAEB6QAAAAAAA4HpAAAAAAACAe0AAAAAAACB8QAAAAAAAwHxAAAAAAABgfUAAAAAAAAB+QAAAAAAAoH5AAAAAAABAf0AAAAAAAOB/QAAAAAAAQIBA",
          "dtype": "f8"
         },
         "xaxis": "x65",
         "y": {
          "bdata": "AAAAABtATkEAAAAAAJhUQQAAAABINlpBAAAAgITJXEEAAACALfVeQQAAAACtzV5BAAAAAO2uXUEAAAAAyW9bQQAAAICgeVhBAAAAQOEbVkEAAACA1+VUQQAAAADev1NBAAAAgHz5UUEAAAAAkmBNQQAAAIDp3kZBAAAAAPQpP0EAAAAA1LE2QQAAAAAd/jRB",
          "dtype": "f8"
         },
         "yaxis": "y65"
        },
        {
         "marker": {
          "color": "blue"
         },
         "mode": "lines",
         "showlegend": false,
         "type": "scatter",
         "x": {
          "bdata": "AAAAAADgdUAAAAAAAIB2QAAAAAAAIHdAAAAAAADAd0AAAAAAAGB4QAAAAAAAAHlAAAAAAACgeUAAAAAAAEB6QAAAAAAA4HpAAAAAAACAe0AAAAAAACB8QAAAAAAAwHxAAAAAAABgfUAAAAAAAAB+QAAAAAAAoH5AAAAAAABAf0AAAAAAAOB/QAAAAAAAQIBA",
          "dtype": "f8"
         },
         "xaxis": "x66",
         "y": {
          "bdata": "AAAAgPLpVEEAAADAltteQQAAACAmj2VBAAAAYOR0aUEAAADg0iRtQQAAAADhB25BAAAAQNYEbEEAAABgz9BnQQAAACDG0WFBAAAAAH4YWEEAAAAAezpTQQAAAIBdNVFBAAAAAL3LTkEAAACAKIxJQQAAAIB2nUVBAAAAgHqpQUEAAAAAknw7QQAAAACiyzdB",
          "dtype": "f8"
         },
         "yaxis": "y66"
        },
        {
         "marker": {
          "color": "blue"
         },
         "mode": "lines",
         "showlegend": false,
         "type": "scatter",
         "x": {
          "bdata": "AAAAAADgdUAAAAAAAIB2QAAAAAAAIHdAAAAAAADAd0AAAAAAAGB4QAAAAAAAAHlAAAAAAACgeUAAAAAAAEB6QAAAAAAA4HpAAAAAAACAe0AAAAAAACB8QAAAAAAAwHxAAAAAAABgfUAAAAAAAAB+QAAAAAAAoH5AAAAAAABAf0AAAAAAAOB/QAAAAAAAQIBA",
          "dtype": "f8"
         },
         "xaxis": "x67",
         "y": {
          "bdata": "AAAAAHd6UEEAAAAAOShWQQAAAEBKDVxBAAAAwM9pXkEAAADgUk1gQQAAAAA7LGBBAAAAAA3vXkEAAADAR3ZcQQAAAICtLVlBAAAAQC6aVkEAAACACzdVQQAAAIAFA1RBAAAAgFpKUkEAAAAAawNOQQAAAAADTEdBAAAAAAR+P0EAAAAALSE3QQAAAADwaTVB",
          "dtype": "f8"
         },
         "yaxis": "y67"
        },
        {
         "marker": {
          "color": "blue"
         },
         "mode": "lines",
         "showlegend": false,
         "type": "scatter",
         "x": {
          "bdata": "AAAAAADgdUAAAAAAAIB2QAAAAAAAIHdAAAAAAADAd0AAAAAAAGB4QAAAAAAAAHlAAAAAAACgeUAAAAAAAEB6QAAAAAAA4HpAAAAAAACAe0AAAAAAACB8QAAAAAAAwHxAAAAAAABgfUAAAAAAAAB+QAAAAAAAoH5AAAAAAABAf0AAAAAAAOB/QAAAAAAAQIBA",
          "dtype": "f8"
         },
         "xaxis": "x68",
         "y": {
          "bdata": "AAAAgIYoUEEAAACAbM1UQQAAAIBFzVhBAAAAgOjcWUEAAACAs2paQQAAAED95llBAAAAAH8WWUEAAACAhBVYQQAAAIBEnFZBAAAAAMBgVUEAAAAAWgtUQQAAAMC2TlJBAAAAwIsiUEEAAAAAYZVJQQAAAIC+50NBAAAAADEnPEEAAAAAkjk2QQAAAAAmeTVB",
          "dtype": "f8"
         },
         "yaxis": "y68"
        },
        {
         "marker": {
          "color": "blue"
         },
         "mode": "lines",
         "showlegend": false,
         "type": "scatter",
         "x": {
          "bdata": "AAAAAADgdUAAAAAAAIB2QAAAAAAAIHdAAAAAAADAd0AAAAAAAGB4QAAAAAAAAHlAAAAAAACgeUAAAAAAAEB6QAAAAAAA4HpAAAAAAACAe0AAAAAAACB8QAAAAAAAwHxAAAAAAABgfUAAAAAAAAB+QAAAAAAAoH5AAAAAAABAf0AAAAAAAOB/QAAAAAAAQIBA",
          "dtype": "f8"
         },
         "xaxis": "x69",
         "y": {
          "bdata": "AAAAgGIJV0EAAAAAdFRgQQAAAGCEIGZBAAAAQJdOaUEAAADAWwRsQQAAACDCRmxBAAAAYBQrakEAAACgjrxmQQAAAKBnTWJBAAAAADlEXkEAAAAAFNVcQQAAAABsfFxBAAAAQK6hW0EAAAAAibVXQQAAAIA8iFJBAAAAAP7MR0EAAAAAV9c9QQAAAADUIjlB",
          "dtype": "f8"
         },
         "yaxis": "y69"
        },
        {
         "marker": {
          "color": "blue"
         },
         "mode": "lines",
         "showlegend": false,
         "type": "scatter",
         "x": {
          "bdata": "AAAAAADgdUAAAAAAAIB2QAAAAAAAIHdAAAAAAADAd0AAAAAAAGB4QAAAAAAAAHlAAAAAAACgeUAAAAAAAEB6QAAAAAAA4HpAAAAAAACAe0AAAAAAACB8QAAAAAAAwHxAAAAAAABgfUAAAAAAAAB+QAAAAAAAoH5AAAAAAABAf0AAAAAAAOB/QAAAAAAAQIBA",
          "dtype": "f8"
         },
         "xaxis": "x70",
         "y": {
          "bdata": "AAAAwAQKWEEAAACA9QJhQQAAAABjGGdBAAAAYD6RakEAAADA5Y9tQQAAAECx+G1BAAAAICaha0EAAABgf7hnQQAAAACFj2JBAAAAAHIfXUEAAACAFSFbQQAAAMBa41pBAAAAABBFWkEAAAAAc7JWQQAAAADX71FBAAAAgCiaR0EAAAAAZlA+QQAAAABBYTlB",
          "dtype": "f8"
         },
         "yaxis": "y70"
        },
        {
         "marker": {
          "color": "blue"
         },
         "mode": "lines",
         "showlegend": false,
         "type": "scatter",
         "x": {
          "bdata": "AAAAAADgdUAAAAAAAIB2QAAAAAAAIHdAAAAAAADAd0AAAAAAAGB4QAAAAAAAAHlAAAAAAACgeUAAAAAAAEB6QAAAAAAA4HpAAAAAAACAe0AAAAAAACB8QAAAAAAAwHxAAAAAAABgfUAAAAAAAAB+QAAAAAAAoH5AAAAAAABAf0AAAAAAAOB/QAAAAAAAQIBA",
          "dtype": "f8"
         },
         "xaxis": "x71",
         "y": {
          "bdata": "AAAAwDzuWEEAAABArfhhQQAAAOAbmWhBAAAAQLpVbEEAAABgaKFvQQAAAKDhB3BBAAAA4IlrbUEAAABAwg1pQQAAAGBlXGNBAAAAQD7TXUEAAAAAcadbQQAAAMCqQVtBAAAAwPqAWkEAAAAASeJWQQAAAIB9JVJBAAAAAJ7/R0EAAAAAchA+QQAAAAA6WjhB",
          "dtype": "f8"
         },
         "yaxis": "y71"
        },
        {
         "marker": {
          "color": "blue"
         },
         "mode": "lines",
         "showlegend": false,
         "type": "scatter",
         "x": {
          "bdata": "AAAAAADgdUAAAAAAAIB2QAAAAAAAIHdAAAAAAADAd0AAAAAAAGB4QAAAAAAAAHlAAAAAAACgeUAAAAAAAEB6QAAAAAAA4HpAAAAAAACAe0AAAAAAACB8QAAAAAAAwHxAAAAAAABgfUAAAAAAAAB+QAAAAAAAoH5AAAAAAABAf0AAAAAAAOB/QAAAAAAAQIBA",
          "dtype": "f8"
         },
         "xaxis": "x72",
         "y": {
          "bdata": "AAAAgJW9VUEAAACARbZeQQAAAEAqg2RBAAAA4L9KZ0EAAACgIbtpQQAAAABR9mlBAAAAICsQaEEAAADAzfFkQQAAAAAQz2BBAAAAgMseW0EAAAAA9jhZQQAAAMAEfFhBAAAAADs/V0EAAADAlbNTQQAAAIBRoE5BAAAAgFH4Q0EAAAAAdzs5QQAAAAAq9TRB",
          "dtype": "f8"
         },
         "yaxis": "y72"
        },
        {
         "marker": {
          "color": "blue"
         },
         "mode": "lines",
         "showlegend": false,
         "type": "scatter",
         "x": {
          "bdata": "AAAAAADgdUAAAAAAAIB2QAAAAAAAIHdAAAAAAADAd0AAAAAAAGB4QAAAAAAAAHlAAAAAAACgeUAAAAAAAEB6QAAAAAAA4HpAAAAAAACAe0AAAAAAACB8QAAAAAAAwHxAAAAAAABgfUAAAAAAAAB+QAAAAAAAoH5AAAAAAABAf0AAAAAAAOB/QAAAAAAAQIBA",
          "dtype": "f8"
         },
         "xaxis": "x73",
         "y": {
          "bdata": "AAAAgJzJUEEAAACAq8VVQQAAAMBYXVpBAAAAQKB5W0EAAAAA1GpcQQAAAIDn7FtBAAAAAOq8WkEAAADAjzVZQQAAAIAqI1dBAAAAAPVtVUEAAAAAORFUQQAAAIAIbFJBAAAAAJZkUEEAAACA2SRKQQAAAAAxY0RBAAAAAESzPEEAAAAAhkM2QQAAAAB+HDVB",
          "dtype": "f8"
         },
         "yaxis": "y73"
        },
        {
         "marker": {
          "color": "blue"
         },
         "mode": "lines",
         "showlegend": false,
         "type": "scatter",
         "x": {
          "bdata": "AAAAAADgdUAAAAAAAIB2QAAAAAAAIHdAAAAAAADAd0AAAAAAAGB4QAAAAAAAAHlAAAAAAACgeUAAAAAAAEB6QAAAAAAA4HpAAAAAAACAe0AAAAAAACB8QAAAAAAAwHxAAAAAAABgfUAAAAAAAAB+QAAAAAAAoH5AAAAAAABAf0AAAAAAAOB/QAAAAAAAQIBA",
          "dtype": "f8"
         },
         "xaxis": "x74",
         "y": {
          "bdata": "AAAAgEZGT0EAAAAA2N9TQQAAAAC3RFdBAAAAgF+fV0EAAAAAor1XQQAAAADeCFdBAAAAgJqTVkEAAABA5wtWQQAAAIAYWlVBAAAAAJGaVEEAAABAy2VTQQAAAAD3p1FBAAAAAHzGTkEAAAAA+RFIQQAAAAD810JBAAAAADppO0EAAAAANa42QQAAAAC2cTZB",
          "dtype": "f8"
         },
         "yaxis": "y74"
        },
        {
         "marker": {
          "color": "blue"
         },
         "mode": "lines",
         "showlegend": false,
         "type": "scatter",
         "x": {
          "bdata": "AAAAAADgdUAAAAAAAIB2QAAAAAAAIHdAAAAAAADAd0AAAAAAAGB4QAAAAAAAAHlAAAAAAACgeUAAAAAAAEB6QAAAAAAA4HpAAAAAAACAe0AAAAAAACB8QAAAAAAAwHxAAAAAAABgfUAAAAAAAAB+QAAAAAAAoH5AAAAAAABAf0AAAAAAAOB/QAAAAAAAQIBA",
          "dtype": "f8"
         },
         "xaxis": "x75",
         "y": {
          "bdata": "AAAAgLnATkEAAAAAf5dTQQAAAMAPBldBAAAAgMWVV0EAAAAAFuxXQQAAAIAmhldBAAAAgOaRV0EAAACAWNhXQQAAAMDpiFhBAAAAAHu8WkEAAAAA37BdQQAAAEB3MmFBAAAA4BIaY0EAAABgK0dmQQAAAEDNm2hBAAAAQDaVZEEAAABAnfFQQQAAAADIBy5B",
          "dtype": "f8"
         },
         "yaxis": "y75"
        },
        {
         "marker": {
          "color": "blue"
         },
         "mode": "lines",
         "showlegend": false,
         "type": "scatter",
         "x": {
          "bdata": "AAAAAADgdUAAAAAAAIB2QAAAAAAAIHdAAAAAAADAd0AAAAAAAGB4QAAAAAAAAHlAAAAAAACgeUAAAAAAAEB6QAAAAAAA4HpAAAAAAACAe0AAAAAAACB8QAAAAAAAwHxAAAAAAABgfUAAAAAAAAB+QAAAAAAAoH5AAAAAAABAf0AAAAAAAOB/QAAAAAAAQIBA",
          "dtype": "f8"
         },
         "xaxis": "x76",
         "y": {
          "bdata": "AAAAALqLTkEAAACA5zNTQQAAAICsPlZBAAAAQPmvVkEAAAAAnAtXQQAAAECFYlZBAAAAAG6kVUEAAAAApJFUQQAAAACQPFNBAAAAQO+8UUEAAABAZBJQQQAAAIDxJUxBAAAAgGhoR0EAAAAAG1dBQQAAAACBGzlBAAAAAASXLkEAAAAA4ogiQQAAAADMNRhB",
          "dtype": "f8"
         },
         "yaxis": "y76"
        }
       ],
       "layout": {
        "annotations": [
         {
          "font": {
           "size": 16
          },
          "showarrow": false,
          "text": "1",
          "x": 0.04,
          "xanchor": "center",
          "xref": "paper",
          "y": 1,
          "yanchor": "bottom",
          "yref": "paper"
         },
         {
          "font": {
           "size": 16
          },
          "showarrow": false,
          "text": "2",
          "x": 0.14,
          "xanchor": "center",
          "xref": "paper",
          "y": 1,
          "yanchor": "bottom",
          "yref": "paper"
         },
         {
          "font": {
           "size": 16
          },
          "showarrow": false,
          "text": "3",
          "x": 0.24000000000000002,
          "xanchor": "center",
          "xref": "paper",
          "y": 1,
          "yanchor": "bottom",
          "yref": "paper"
         },
         {
          "font": {
           "size": 16
          },
          "showarrow": false,
          "text": "4",
          "x": 0.33999999999999997,
          "xanchor": "center",
          "xref": "paper",
          "y": 1,
          "yanchor": "bottom",
          "yref": "paper"
         },
         {
          "font": {
           "size": 16
          },
          "showarrow": false,
          "text": "5",
          "x": 0.44000000000000006,
          "xanchor": "center",
          "xref": "paper",
          "y": 1,
          "yanchor": "bottom",
          "yref": "paper"
         },
         {
          "font": {
           "size": 16
          },
          "showarrow": false,
          "text": "6",
          "x": 0.54,
          "xanchor": "center",
          "xref": "paper",
          "y": 1,
          "yanchor": "bottom",
          "yref": "paper"
         },
         {
          "font": {
           "size": 16
          },
          "showarrow": false,
          "text": "7",
          "x": 0.6399999999999999,
          "xanchor": "center",
          "xref": "paper",
          "y": 1,
          "yanchor": "bottom",
          "yref": "paper"
         },
         {
          "font": {
           "size": 16
          },
          "showarrow": false,
          "text": "8",
          "x": 0.74,
          "xanchor": "center",
          "xref": "paper",
          "y": 1,
          "yanchor": "bottom",
          "yref": "paper"
         },
         {
          "font": {
           "size": 16
          },
          "showarrow": false,
          "text": "9",
          "x": 0.8400000000000001,
          "xanchor": "center",
          "xref": "paper",
          "y": 1,
          "yanchor": "bottom",
          "yref": "paper"
         },
         {
          "font": {
           "size": 16
          },
          "showarrow": false,
          "text": "10",
          "x": 0.94,
          "xanchor": "center",
          "xref": "paper",
          "y": 1,
          "yanchor": "bottom",
          "yref": "paper"
         },
         {
          "font": {
           "size": 16
          },
          "showarrow": false,
          "text": "A",
          "textangle": 90,
          "x": 0.9799999999999999,
          "xanchor": "left",
          "xref": "paper",
          "y": 0.9539062500000001,
          "yanchor": "middle",
          "yref": "paper"
         },
         {
          "font": {
           "size": 16
          },
          "showarrow": false,
          "text": "B",
          "textangle": 90,
          "x": 0.9799999999999999,
          "xanchor": "left",
          "xref": "paper",
          "y": 0.82421875,
          "yanchor": "middle",
          "yref": "paper"
         },
         {
          "font": {
           "size": 16
          },
          "showarrow": false,
          "text": "C",
          "textangle": 90,
          "x": 0.9799999999999999,
          "xanchor": "left",
          "xref": "paper",
          "y": 0.69453125,
          "yanchor": "middle",
          "yref": "paper"
         },
         {
          "font": {
           "size": 16
          },
          "showarrow": false,
          "text": "D",
          "textangle": 90,
          "x": 0.9799999999999999,
          "xanchor": "left",
          "xref": "paper",
          "y": 0.5648437500000001,
          "yanchor": "middle",
          "yref": "paper"
         },
         {
          "font": {
           "size": 16
          },
          "showarrow": false,
          "text": "E",
          "textangle": 90,
          "x": 0.9799999999999999,
          "xanchor": "left",
          "xref": "paper",
          "y": 0.43515625,
          "yanchor": "middle",
          "yref": "paper"
         },
         {
          "font": {
           "size": 16
          },
          "showarrow": false,
          "text": "F",
          "textangle": 90,
          "x": 0.9799999999999999,
          "xanchor": "left",
          "xref": "paper",
          "y": 0.30546875,
          "yanchor": "middle",
          "yref": "paper"
         },
         {
          "font": {
           "size": 16
          },
          "showarrow": false,
          "text": "G",
          "textangle": 90,
          "x": 0.9799999999999999,
          "xanchor": "left",
          "xref": "paper",
          "y": 0.17578125,
          "yanchor": "middle",
          "yref": "paper"
         },
         {
          "font": {
           "size": 16
          },
          "showarrow": false,
          "text": "H",
          "textangle": 90,
          "x": 0.9799999999999999,
          "xanchor": "left",
          "xref": "paper",
          "y": 0.04609375,
          "yanchor": "middle",
          "yref": "paper"
         },
         {
          "font": {
           "size": 16
          },
          "showarrow": false,
          "text": "Excitation wavelength (nm)",
          "x": 0.49,
          "xanchor": "center",
          "xref": "paper",
          "y": 0,
          "yanchor": "top",
          "yref": "paper",
          "yshift": -30
         }
        ],
        "height": 600,
        "template": {
         "data": {
          "bar": [
           {
            "error_x": {
             "color": "#2a3f5f"
            },
            "error_y": {
             "color": "#2a3f5f"
            },
            "marker": {
             "line": {
              "color": "white",
              "width": 0.5
             },
             "pattern": {
              "fillmode": "overlay",
              "size": 10,
              "solidity": 0.2
             }
            },
            "type": "bar"
           }
          ],
          "barpolar": [
           {
            "marker": {
             "line": {
              "color": "white",
              "width": 0.5
             },
             "pattern": {
              "fillmode": "overlay",
              "size": 10,
              "solidity": 0.2
             }
            },
            "type": "barpolar"
           }
          ],
          "carpet": [
           {
            "aaxis": {
             "endlinecolor": "#2a3f5f",
             "gridcolor": "#C8D4E3",
             "linecolor": "#C8D4E3",
             "minorgridcolor": "#C8D4E3",
             "startlinecolor": "#2a3f5f"
            },
            "baxis": {
             "endlinecolor": "#2a3f5f",
             "gridcolor": "#C8D4E3",
             "linecolor": "#C8D4E3",
             "minorgridcolor": "#C8D4E3",
             "startlinecolor": "#2a3f5f"
            },
            "type": "carpet"
           }
          ],
          "choropleth": [
           {
            "colorbar": {
             "outlinewidth": 0,
             "ticks": ""
            },
            "type": "choropleth"
           }
          ],
          "contour": [
           {
            "colorbar": {
             "outlinewidth": 0,
             "ticks": ""
            },
            "colorscale": [
             [
              0,
              "#0d0887"
             ],
             [
              0.1111111111111111,
              "#46039f"
             ],
             [
              0.2222222222222222,
              "#7201a8"
             ],
             [
              0.3333333333333333,
              "#9c179e"
             ],
             [
              0.4444444444444444,
              "#bd3786"
             ],
             [
              0.5555555555555556,
              "#d8576b"
             ],
             [
              0.6666666666666666,
              "#ed7953"
             ],
             [
              0.7777777777777778,
              "#fb9f3a"
             ],
             [
              0.8888888888888888,
              "#fdca26"
             ],
             [
              1,
              "#f0f921"
             ]
            ],
            "type": "contour"
           }
          ],
          "contourcarpet": [
           {
            "colorbar": {
             "outlinewidth": 0,
             "ticks": ""
            },
            "type": "contourcarpet"
           }
          ],
          "heatmap": [
           {
            "colorbar": {
             "outlinewidth": 0,
             "ticks": ""
            },
            "colorscale": [
             [
              0,
              "#0d0887"
             ],
             [
              0.1111111111111111,
              "#46039f"
             ],
             [
              0.2222222222222222,
              "#7201a8"
             ],
             [
              0.3333333333333333,
              "#9c179e"
             ],
             [
              0.4444444444444444,
              "#bd3786"
             ],
             [
              0.5555555555555556,
              "#d8576b"
             ],
             [
              0.6666666666666666,
              "#ed7953"
             ],
             [
              0.7777777777777778,
              "#fb9f3a"
             ],
             [
              0.8888888888888888,
              "#fdca26"
             ],
             [
              1,
              "#f0f921"
             ]
            ],
            "type": "heatmap"
           }
          ],
          "histogram": [
           {
            "marker": {
             "pattern": {
              "fillmode": "overlay",
              "size": 10,
              "solidity": 0.2
             }
            },
            "type": "histogram"
           }
          ],
          "histogram2d": [
           {
            "colorbar": {
             "outlinewidth": 0,
             "ticks": ""
            },
            "colorscale": [
             [
              0,
              "#0d0887"
             ],
             [
              0.1111111111111111,
              "#46039f"
             ],
             [
              0.2222222222222222,
              "#7201a8"
             ],
             [
              0.3333333333333333,
              "#9c179e"
             ],
             [
              0.4444444444444444,
              "#bd3786"
             ],
             [
              0.5555555555555556,
              "#d8576b"
             ],
             [
              0.6666666666666666,
              "#ed7953"
             ],
             [
              0.7777777777777778,
              "#fb9f3a"
             ],
             [
              0.8888888888888888,
              "#fdca26"
             ],
             [
              1,
              "#f0f921"
             ]
            ],
            "type": "histogram2d"
           }
          ],
          "histogram2dcontour": [
           {
            "colorbar": {
             "outlinewidth": 0,
             "ticks": ""
            },
            "colorscale": [
             [
              0,
              "#0d0887"
             ],
             [
              0.1111111111111111,
              "#46039f"
             ],
             [
              0.2222222222222222,
              "#7201a8"
             ],
             [
              0.3333333333333333,
              "#9c179e"
             ],
             [
              0.4444444444444444,
              "#bd3786"
             ],
             [
              0.5555555555555556,
              "#d8576b"
             ],
             [
              0.6666666666666666,
              "#ed7953"
             ],
             [
              0.7777777777777778,
              "#fb9f3a"
             ],
             [
              0.8888888888888888,
              "#fdca26"
             ],
             [
              1,
              "#f0f921"
             ]
            ],
            "type": "histogram2dcontour"
           }
          ],
          "mesh3d": [
           {
            "colorbar": {
             "outlinewidth": 0,
             "ticks": ""
            },
            "type": "mesh3d"
           }
          ],
          "parcoords": [
           {
            "line": {
             "colorbar": {
              "outlinewidth": 0,
              "ticks": ""
             }
            },
            "type": "parcoords"
           }
          ],
          "pie": [
           {
            "automargin": true,
            "type": "pie"
           }
          ],
          "scatter": [
           {
            "fillpattern": {
             "fillmode": "overlay",
             "size": 10,
             "solidity": 0.2
            },
            "type": "scatter"
           }
          ],
          "scatter3d": [
           {
            "line": {
             "colorbar": {
              "outlinewidth": 0,
              "ticks": ""
             }
            },
            "marker": {
             "colorbar": {
              "outlinewidth": 0,
              "ticks": ""
             }
            },
            "type": "scatter3d"
           }
          ],
          "scattercarpet": [
           {
            "marker": {
             "colorbar": {
              "outlinewidth": 0,
              "ticks": ""
             }
            },
            "type": "scattercarpet"
           }
          ],
          "scattergeo": [
           {
            "marker": {
             "colorbar": {
              "outlinewidth": 0,
              "ticks": ""
             }
            },
            "type": "scattergeo"
           }
          ],
          "scattergl": [
           {
            "marker": {
             "colorbar": {
              "outlinewidth": 0,
              "ticks": ""
             }
            },
            "type": "scattergl"
           }
          ],
          "scattermap": [
           {
            "marker": {
             "colorbar": {
              "outlinewidth": 0,
              "ticks": ""
             }
            },
            "type": "scattermap"
           }
          ],
          "scattermapbox": [
           {
            "marker": {
             "colorbar": {
              "outlinewidth": 0,
              "ticks": ""
             }
            },
            "type": "scattermapbox"
           }
          ],
          "scatterpolar": [
           {
            "marker": {
             "colorbar": {
              "outlinewidth": 0,
              "ticks": ""
             }
            },
            "type": "scatterpolar"
           }
          ],
          "scatterpolargl": [
           {
            "marker": {
             "colorbar": {
              "outlinewidth": 0,
              "ticks": ""
             }
            },
            "type": "scatterpolargl"
           }
          ],
          "scatterternary": [
           {
            "marker": {
             "colorbar": {
              "outlinewidth": 0,
              "ticks": ""
             }
            },
            "type": "scatterternary"
           }
          ],
          "surface": [
           {
            "colorbar": {
             "outlinewidth": 0,
             "ticks": ""
            },
            "colorscale": [
             [
              0,
              "#0d0887"
             ],
             [
              0.1111111111111111,
              "#46039f"
             ],
             [
              0.2222222222222222,
              "#7201a8"
             ],
             [
              0.3333333333333333,
              "#9c179e"
             ],
             [
              0.4444444444444444,
              "#bd3786"
             ],
             [
              0.5555555555555556,
              "#d8576b"
             ],
             [
              0.6666666666666666,
              "#ed7953"
             ],
             [
              0.7777777777777778,
              "#fb9f3a"
             ],
             [
              0.8888888888888888,
              "#fdca26"
             ],
             [
              1,
              "#f0f921"
             ]
            ],
            "type": "surface"
           }
          ],
          "table": [
           {
            "cells": {
             "fill": {
              "color": "#EBF0F8"
             },
             "line": {
              "color": "white"
             }
            },
            "header": {
             "fill": {
              "color": "#C8D4E3"
             },
             "line": {
              "color": "white"
             }
            },
            "type": "table"
           }
          ]
         },
         "layout": {
          "annotationdefaults": {
           "arrowcolor": "#2a3f5f",
           "arrowhead": 0,
           "arrowwidth": 1
          },
          "autotypenumbers": "strict",
          "coloraxis": {
           "colorbar": {
            "outlinewidth": 0,
            "ticks": ""
           }
          },
          "colorscale": {
           "diverging": [
            [
             0,
             "#8e0152"
            ],
            [
             0.1,
             "#c51b7d"
            ],
            [
             0.2,
             "#de77ae"
            ],
            [
             0.3,
             "#f1b6da"
            ],
            [
             0.4,
             "#fde0ef"
            ],
            [
             0.5,
             "#f7f7f7"
            ],
            [
             0.6,
             "#e6f5d0"
            ],
            [
             0.7,
             "#b8e186"
            ],
            [
             0.8,
             "#7fbc41"
            ],
            [
             0.9,
             "#4d9221"
            ],
            [
             1,
             "#276419"
            ]
           ],
           "sequential": [
            [
             0,
             "#0d0887"
            ],
            [
             0.1111111111111111,
             "#46039f"
            ],
            [
             0.2222222222222222,
             "#7201a8"
            ],
            [
             0.3333333333333333,
             "#9c179e"
            ],
            [
             0.4444444444444444,
             "#bd3786"
            ],
            [
             0.5555555555555556,
             "#d8576b"
            ],
            [
             0.6666666666666666,
             "#ed7953"
            ],
            [
             0.7777777777777778,
             "#fb9f3a"
            ],
            [
             0.8888888888888888,
             "#fdca26"
            ],
            [
             1,
             "#f0f921"
            ]
           ],
           "sequentialminus": [
            [
             0,
             "#0d0887"
            ],
            [
             0.1111111111111111,
             "#46039f"
            ],
            [
             0.2222222222222222,
             "#7201a8"
            ],
            [
             0.3333333333333333,
             "#9c179e"
            ],
            [
             0.4444444444444444,
             "#bd3786"
            ],
            [
             0.5555555555555556,
             "#d8576b"
            ],
            [
             0.6666666666666666,
             "#ed7953"
            ],
            [
             0.7777777777777778,
             "#fb9f3a"
            ],
            [
             0.8888888888888888,
             "#fdca26"
            ],
            [
             1,
             "#f0f921"
            ]
           ]
          },
          "colorway": [
           "#636efa",
           "#EF553B",
           "#00cc96",
           "#ab63fa",
           "#FFA15A",
           "#19d3f3",
           "#FF6692",
           "#B6E880",
           "#FF97FF",
           "#FECB52"
          ],
          "font": {
           "color": "#2a3f5f"
          },
          "geo": {
           "bgcolor": "white",
           "lakecolor": "white",
           "landcolor": "white",
           "showlakes": true,
           "showland": true,
           "subunitcolor": "#C8D4E3"
          },
          "hoverlabel": {
           "align": "left"
          },
          "hovermode": "closest",
          "mapbox": {
           "style": "light"
          },
          "paper_bgcolor": "white",
          "plot_bgcolor": "white",
          "polar": {
           "angularaxis": {
            "gridcolor": "#EBF0F8",
            "linecolor": "#EBF0F8",
            "ticks": ""
           },
           "bgcolor": "white",
           "radialaxis": {
            "gridcolor": "#EBF0F8",
            "linecolor": "#EBF0F8",
            "ticks": ""
           }
          },
          "scene": {
           "xaxis": {
            "backgroundcolor": "white",
            "gridcolor": "#DFE8F3",
            "gridwidth": 2,
            "linecolor": "#EBF0F8",
            "showbackground": true,
            "ticks": "",
            "zerolinecolor": "#EBF0F8"
           },
           "yaxis": {
            "backgroundcolor": "white",
            "gridcolor": "#DFE8F3",
            "gridwidth": 2,
            "linecolor": "#EBF0F8",
            "showbackground": true,
            "ticks": "",
            "zerolinecolor": "#EBF0F8"
           },
           "zaxis": {
            "backgroundcolor": "white",
            "gridcolor": "#DFE8F3",
            "gridwidth": 2,
            "linecolor": "#EBF0F8",
            "showbackground": true,
            "ticks": "",
            "zerolinecolor": "#EBF0F8"
           }
          },
          "shapedefaults": {
           "line": {
            "color": "#2a3f5f"
           }
          },
          "ternary": {
           "aaxis": {
            "gridcolor": "#DFE8F3",
            "linecolor": "#A2B1C6",
            "ticks": ""
           },
           "baxis": {
            "gridcolor": "#DFE8F3",
            "linecolor": "#A2B1C6",
            "ticks": ""
           },
           "bgcolor": "white",
           "caxis": {
            "gridcolor": "#DFE8F3",
            "linecolor": "#A2B1C6",
            "ticks": ""
           }
          },
          "title": {
           "x": 0.05
          },
          "xaxis": {
           "automargin": true,
           "gridcolor": "#EBF0F8",
           "linecolor": "#EBF0F8",
           "ticks": "",
           "title": {
            "standoff": 15
           },
           "zerolinecolor": "#EBF0F8",
           "zerolinewidth": 2
          },
          "yaxis": {
           "automargin": true,
           "gridcolor": "#EBF0F8",
           "linecolor": "#EBF0F8",
           "ticks": "",
           "title": {
            "standoff": 15
           },
           "zerolinecolor": "#EBF0F8",
           "zerolinewidth": 2
          }
         }
        },
        "width": 900,
        "xaxis": {
         "anchor": "y",
         "domain": [
          0,
          0.08
         ],
         "matches": "x71",
         "showticklabels": false
        },
        "xaxis10": {
         "anchor": "y10",
         "domain": [
          0.8999999999999999,
          0.9799999999999999
         ],
         "matches": "x80",
         "showticklabels": false
        },
        "xaxis11": {
         "anchor": "y11",
         "domain": [
          0,
          0.08
         ],
         "matches": "x71",
         "showticklabels": false
        },
        "xaxis12": {
         "anchor": "y12",
         "domain": [
          0.1,
          0.18
         ],
         "matches": "x72",
         "showticklabels": false
        },
        "xaxis13": {
         "anchor": "y13",
         "domain": [
          0.2,
          0.28
         ],
         "matches": "x73",
         "showticklabels": false
        },
        "xaxis14": {
         "anchor": "y14",
         "domain": [
          0.3,
          0.38
         ],
         "matches": "x74",
         "showticklabels": false
        },
        "xaxis15": {
         "anchor": "y15",
         "domain": [
          0.4,
          0.48000000000000004
         ],
         "matches": "x75",
         "showticklabels": false
        },
        "xaxis16": {
         "anchor": "y16",
         "domain": [
          0.5,
          0.58
         ],
         "matches": "x76",
         "showticklabels": false
        },
        "xaxis17": {
         "anchor": "y17",
         "domain": [
          0.6,
          0.6799999999999999
         ],
         "matches": "x77",
         "showticklabels": false
        },
        "xaxis18": {
         "anchor": "y18",
         "domain": [
          0.7000000000000001,
          0.78
         ],
         "matches": "x78",
         "showticklabels": false
        },
        "xaxis19": {
         "anchor": "y19",
         "domain": [
          0.8,
          0.88
         ],
         "matches": "x79",
         "showticklabels": false
        },
        "xaxis2": {
         "anchor": "y2",
         "domain": [
          0.1,
          0.18
         ],
         "matches": "x72",
         "showticklabels": false
        },
        "xaxis20": {
         "anchor": "y20",
         "domain": [
          0.8999999999999999,
          0.9799999999999999
         ],
         "matches": "x80",
         "showticklabels": false
        },
        "xaxis21": {
         "anchor": "y21",
         "domain": [
          0,
          0.08
         ],
         "matches": "x71",
         "showticklabels": false
        },
        "xaxis22": {
         "anchor": "y22",
         "domain": [
          0.1,
          0.18
         ],
         "matches": "x72",
         "showticklabels": false
        },
        "xaxis23": {
         "anchor": "y23",
         "domain": [
          0.2,
          0.28
         ],
         "matches": "x73",
         "showticklabels": false
        },
        "xaxis24": {
         "anchor": "y24",
         "domain": [
          0.3,
          0.38
         ],
         "matches": "x74",
         "showticklabels": false
        },
        "xaxis25": {
         "anchor": "y25",
         "domain": [
          0.4,
          0.48000000000000004
         ],
         "matches": "x75",
         "showticklabels": false
        },
        "xaxis26": {
         "anchor": "y26",
         "domain": [
          0.5,
          0.58
         ],
         "matches": "x76",
         "showticklabels": false
        },
        "xaxis27": {
         "anchor": "y27",
         "domain": [
          0.6,
          0.6799999999999999
         ],
         "matches": "x77",
         "showticklabels": false
        },
        "xaxis28": {
         "anchor": "y28",
         "domain": [
          0.7000000000000001,
          0.78
         ],
         "matches": "x78",
         "showticklabels": false
        },
        "xaxis29": {
         "anchor": "y29",
         "domain": [
          0.8,
          0.88
         ],
         "matches": "x79",
         "showticklabels": false
        },
        "xaxis3": {
         "anchor": "y3",
         "domain": [
          0.2,
          0.28
         ],
         "matches": "x73",
         "showticklabels": false
        },
        "xaxis30": {
         "anchor": "y30",
         "domain": [
          0.8999999999999999,
          0.9799999999999999
         ],
         "matches": "x80",
         "showticklabels": false
        },
        "xaxis31": {
         "anchor": "y31",
         "domain": [
          0,
          0.08
         ],
         "matches": "x71",
         "showticklabels": false
        },
        "xaxis32": {
         "anchor": "y32",
         "domain": [
          0.1,
          0.18
         ],
         "matches": "x72",
         "showticklabels": false
        },
        "xaxis33": {
         "anchor": "y33",
         "domain": [
          0.2,
          0.28
         ],
         "matches": "x73",
         "showticklabels": false
        },
        "xaxis34": {
         "anchor": "y34",
         "domain": [
          0.3,
          0.38
         ],
         "matches": "x74",
         "showticklabels": false
        },
        "xaxis35": {
         "anchor": "y35",
         "domain": [
          0.4,
          0.48000000000000004
         ],
         "matches": "x75",
         "showticklabels": false
        },
        "xaxis36": {
         "anchor": "y36",
         "domain": [
          0.5,
          0.58
         ],
         "matches": "x76",
         "showticklabels": false
        },
        "xaxis37": {
         "anchor": "y37",
         "domain": [
          0.6,
          0.6799999999999999
         ],
         "matches": "x77",
         "showticklabels": false
        },
        "xaxis38": {
         "anchor": "y38",
         "domain": [
          0.7000000000000001,
          0.78
         ],
         "matches": "x78",
         "showticklabels": false
        },
        "xaxis39": {
         "anchor": "y39",
         "domain": [
          0.8,
          0.88
         ],
         "matches": "x79",
         "showticklabels": false
        },
        "xaxis4": {
         "anchor": "y4",
         "domain": [
          0.3,
          0.38
         ],
         "matches": "x74",
         "showticklabels": false
        },
        "xaxis40": {
         "anchor": "y40",
         "domain": [
          0.8999999999999999,
          0.9799999999999999
         ],
         "matches": "x80",
         "showticklabels": false
        },
        "xaxis41": {
         "anchor": "y41",
         "domain": [
          0,
          0.08
         ],
         "matches": "x71",
         "showticklabels": false
        },
        "xaxis42": {
         "anchor": "y42",
         "domain": [
          0.1,
          0.18
         ],
         "matches": "x72",
         "showticklabels": false
        },
        "xaxis43": {
         "anchor": "y43",
         "domain": [
          0.2,
          0.28
         ],
         "matches": "x73",
         "showticklabels": false
        },
        "xaxis44": {
         "anchor": "y44",
         "domain": [
          0.3,
          0.38
         ],
         "matches": "x74",
         "showticklabels": false
        },
        "xaxis45": {
         "anchor": "y45",
         "domain": [
          0.4,
          0.48000000000000004
         ],
         "matches": "x75",
         "showticklabels": false
        },
        "xaxis46": {
         "anchor": "y46",
         "domain": [
          0.5,
          0.58
         ],
         "matches": "x76",
         "showticklabels": false
        },
        "xaxis47": {
         "anchor": "y47",
         "domain": [
          0.6,
          0.6799999999999999
         ],
         "matches": "x77",
         "showticklabels": false
        },
        "xaxis48": {
         "anchor": "y48",
         "domain": [
          0.7000000000000001,
          0.78
         ],
         "matches": "x78",
         "showticklabels": false
        },
        "xaxis49": {
         "anchor": "y49",
         "domain": [
          0.8,
          0.88
         ],
         "matches": "x79",
         "showticklabels": false
        },
        "xaxis5": {
         "anchor": "y5",
         "domain": [
          0.4,
          0.48000000000000004
         ],
         "matches": "x75",
         "showticklabels": false
        },
        "xaxis50": {
         "anchor": "y50",
         "domain": [
          0.8999999999999999,
          0.9799999999999999
         ],
         "matches": "x80",
         "showticklabels": false
        },
        "xaxis51": {
         "anchor": "y51",
         "domain": [
          0,
          0.08
         ],
         "matches": "x71",
         "showticklabels": false
        },
        "xaxis52": {
         "anchor": "y52",
         "domain": [
          0.1,
          0.18
         ],
         "matches": "x72",
         "showticklabels": false
        },
        "xaxis53": {
         "anchor": "y53",
         "domain": [
          0.2,
          0.28
         ],
         "matches": "x73",
         "showticklabels": false
        },
        "xaxis54": {
         "anchor": "y54",
         "domain": [
          0.3,
          0.38
         ],
         "matches": "x74",
         "showticklabels": false
        },
        "xaxis55": {
         "anchor": "y55",
         "domain": [
          0.4,
          0.48000000000000004
         ],
         "matches": "x75",
         "showticklabels": false
        },
        "xaxis56": {
         "anchor": "y56",
         "domain": [
          0.5,
          0.58
         ],
         "matches": "x76",
         "showticklabels": false
        },
        "xaxis57": {
         "anchor": "y57",
         "domain": [
          0.6,
          0.6799999999999999
         ],
         "matches": "x77",
         "showticklabels": false
        },
        "xaxis58": {
         "anchor": "y58",
         "domain": [
          0.7000000000000001,
          0.78
         ],
         "matches": "x78",
         "showticklabels": false
        },
        "xaxis59": {
         "anchor": "y59",
         "domain": [
          0.8,
          0.88
         ],
         "matches": "x79",
         "showticklabels": false
        },
        "xaxis6": {
         "anchor": "y6",
         "domain": [
          0.5,
          0.58
         ],
         "matches": "x76",
         "showticklabels": false
        },
        "xaxis60": {
         "anchor": "y60",
         "domain": [
          0.8999999999999999,
          0.9799999999999999
         ],
         "matches": "x80",
         "showticklabels": false
        },
        "xaxis61": {
         "anchor": "y61",
         "domain": [
          0,
          0.08
         ],
         "matches": "x71",
         "showticklabels": false
        },
        "xaxis62": {
         "anchor": "y62",
         "domain": [
          0.1,
          0.18
         ],
         "matches": "x72",
         "showticklabels": false
        },
        "xaxis63": {
         "anchor": "y63",
         "domain": [
          0.2,
          0.28
         ],
         "matches": "x73",
         "showticklabels": false
        },
        "xaxis64": {
         "anchor": "y64",
         "domain": [
          0.3,
          0.38
         ],
         "matches": "x74",
         "showticklabels": false
        },
        "xaxis65": {
         "anchor": "y65",
         "domain": [
          0.4,
          0.48000000000000004
         ],
         "matches": "x75",
         "showticklabels": false
        },
        "xaxis66": {
         "anchor": "y66",
         "domain": [
          0.5,
          0.58
         ],
         "matches": "x76",
         "showticklabels": false
        },
        "xaxis67": {
         "anchor": "y67",
         "domain": [
          0.6,
          0.6799999999999999
         ],
         "matches": "x77",
         "showticklabels": false
        },
        "xaxis68": {
         "anchor": "y68",
         "domain": [
          0.7000000000000001,
          0.78
         ],
         "matches": "x78",
         "showticklabels": false
        },
        "xaxis69": {
         "anchor": "y69",
         "domain": [
          0.8,
          0.88
         ],
         "matches": "x79",
         "showticklabels": false
        },
        "xaxis7": {
         "anchor": "y7",
         "domain": [
          0.6,
          0.6799999999999999
         ],
         "matches": "x77",
         "showticklabels": false
        },
        "xaxis70": {
         "anchor": "y70",
         "domain": [
          0.8999999999999999,
          0.9799999999999999
         ],
         "matches": "x80",
         "showticklabels": false
        },
        "xaxis71": {
         "anchor": "y71",
         "domain": [
          0,
          0.08
         ]
        },
        "xaxis72": {
         "anchor": "y72",
         "domain": [
          0.1,
          0.18
         ]
        },
        "xaxis73": {
         "anchor": "y73",
         "domain": [
          0.2,
          0.28
         ]
        },
        "xaxis74": {
         "anchor": "y74",
         "domain": [
          0.3,
          0.38
         ]
        },
        "xaxis75": {
         "anchor": "y75",
         "domain": [
          0.4,
          0.48000000000000004
         ]
        },
        "xaxis76": {
         "anchor": "y76",
         "domain": [
          0.5,
          0.58
         ]
        },
        "xaxis77": {
         "anchor": "y77",
         "domain": [
          0.6,
          0.6799999999999999
         ]
        },
        "xaxis78": {
         "anchor": "y78",
         "domain": [
          0.7000000000000001,
          0.78
         ]
        },
        "xaxis79": {
         "anchor": "y79",
         "domain": [
          0.8,
          0.88
         ]
        },
        "xaxis8": {
         "anchor": "y8",
         "domain": [
          0.7000000000000001,
          0.78
         ],
         "matches": "x78",
         "showticklabels": false
        },
        "xaxis80": {
         "anchor": "y80",
         "domain": [
          0.8999999999999999,
          0.9799999999999999
         ]
        },
        "xaxis9": {
         "anchor": "y9",
         "domain": [
          0.8,
          0.88
         ],
         "matches": "x79",
         "showticklabels": false
        },
        "yaxis": {
         "anchor": "x",
         "domain": [
          0.9078125000000001,
          1
         ]
        },
        "yaxis10": {
         "anchor": "x10",
         "domain": [
          0.9078125000000001,
          1
         ],
         "matches": "y",
         "showticklabels": false
        },
        "yaxis11": {
         "anchor": "x11",
         "domain": [
          0.7781250000000001,
          0.8703125
         ]
        },
        "yaxis12": {
         "anchor": "x12",
         "domain": [
          0.7781250000000001,
          0.8703125
         ],
         "matches": "y11",
         "showticklabels": false
        },
        "yaxis13": {
         "anchor": "x13",
         "domain": [
          0.7781250000000001,
          0.8703125
         ],
         "matches": "y11",
         "showticklabels": false
        },
        "yaxis14": {
         "anchor": "x14",
         "domain": [
          0.7781250000000001,
          0.8703125
         ],
         "matches": "y11",
         "showticklabels": false
        },
        "yaxis15": {
         "anchor": "x15",
         "domain": [
          0.7781250000000001,
          0.8703125
         ],
         "matches": "y11",
         "showticklabels": false
        },
        "yaxis16": {
         "anchor": "x16",
         "domain": [
          0.7781250000000001,
          0.8703125
         ],
         "matches": "y11",
         "showticklabels": false
        },
        "yaxis17": {
         "anchor": "x17",
         "domain": [
          0.7781250000000001,
          0.8703125
         ],
         "matches": "y11",
         "showticklabels": false
        },
        "yaxis18": {
         "anchor": "x18",
         "domain": [
          0.7781250000000001,
          0.8703125
         ],
         "matches": "y11",
         "showticklabels": false
        },
        "yaxis19": {
         "anchor": "x19",
         "domain": [
          0.7781250000000001,
          0.8703125
         ],
         "matches": "y11",
         "showticklabels": false
        },
        "yaxis2": {
         "anchor": "x2",
         "domain": [
          0.9078125000000001,
          1
         ],
         "matches": "y",
         "showticklabels": false
        },
        "yaxis20": {
         "anchor": "x20",
         "domain": [
          0.7781250000000001,
          0.8703125
         ],
         "matches": "y11",
         "showticklabels": false
        },
        "yaxis21": {
         "anchor": "x21",
         "domain": [
          0.6484375,
          0.740625
         ]
        },
        "yaxis22": {
         "anchor": "x22",
         "domain": [
          0.6484375,
          0.740625
         ],
         "matches": "y21",
         "showticklabels": false
        },
        "yaxis23": {
         "anchor": "x23",
         "domain": [
          0.6484375,
          0.740625
         ],
         "matches": "y21",
         "showticklabels": false
        },
        "yaxis24": {
         "anchor": "x24",
         "domain": [
          0.6484375,
          0.740625
         ],
         "matches": "y21",
         "showticklabels": false
        },
        "yaxis25": {
         "anchor": "x25",
         "domain": [
          0.6484375,
          0.740625
         ],
         "matches": "y21",
         "showticklabels": false
        },
        "yaxis26": {
         "anchor": "x26",
         "domain": [
          0.6484375,
          0.740625
         ],
         "matches": "y21",
         "showticklabels": false
        },
        "yaxis27": {
         "anchor": "x27",
         "domain": [
          0.6484375,
          0.740625
         ],
         "matches": "y21",
         "showticklabels": false
        },
        "yaxis28": {
         "anchor": "x28",
         "domain": [
          0.6484375,
          0.740625
         ],
         "matches": "y21",
         "showticklabels": false
        },
        "yaxis29": {
         "anchor": "x29",
         "domain": [
          0.6484375,
          0.740625
         ],
         "matches": "y21",
         "showticklabels": false
        },
        "yaxis3": {
         "anchor": "x3",
         "domain": [
          0.9078125000000001,
          1
         ],
         "matches": "y",
         "showticklabels": false
        },
        "yaxis30": {
         "anchor": "x30",
         "domain": [
          0.6484375,
          0.740625
         ],
         "matches": "y21",
         "showticklabels": false
        },
        "yaxis31": {
         "anchor": "x31",
         "domain": [
          0.51875,
          0.6109375
         ]
        },
        "yaxis32": {
         "anchor": "x32",
         "domain": [
          0.51875,
          0.6109375
         ],
         "matches": "y31",
         "showticklabels": false
        },
        "yaxis33": {
         "anchor": "x33",
         "domain": [
          0.51875,
          0.6109375
         ],
         "matches": "y31",
         "showticklabels": false
        },
        "yaxis34": {
         "anchor": "x34",
         "domain": [
          0.51875,
          0.6109375
         ],
         "matches": "y31",
         "showticklabels": false
        },
        "yaxis35": {
         "anchor": "x35",
         "domain": [
          0.51875,
          0.6109375
         ],
         "matches": "y31",
         "showticklabels": false
        },
        "yaxis36": {
         "anchor": "x36",
         "domain": [
          0.51875,
          0.6109375
         ],
         "matches": "y31",
         "showticklabels": false
        },
        "yaxis37": {
         "anchor": "x37",
         "domain": [
          0.51875,
          0.6109375
         ],
         "matches": "y31",
         "showticklabels": false
        },
        "yaxis38": {
         "anchor": "x38",
         "domain": [
          0.51875,
          0.6109375
         ],
         "matches": "y31",
         "showticklabels": false
        },
        "yaxis39": {
         "anchor": "x39",
         "domain": [
          0.51875,
          0.6109375
         ],
         "matches": "y31",
         "showticklabels": false
        },
        "yaxis4": {
         "anchor": "x4",
         "domain": [
          0.9078125000000001,
          1
         ],
         "matches": "y",
         "showticklabels": false
        },
        "yaxis40": {
         "anchor": "x40",
         "domain": [
          0.51875,
          0.6109375
         ],
         "matches": "y31",
         "showticklabels": false
        },
        "yaxis41": {
         "anchor": "x41",
         "domain": [
          0.38906250000000003,
          0.48125000000000007
         ]
        },
        "yaxis42": {
         "anchor": "x42",
         "domain": [
          0.38906250000000003,
          0.48125000000000007
         ],
         "matches": "y41",
         "showticklabels": false
        },
        "yaxis43": {
         "anchor": "x43",
         "domain": [
          0.38906250000000003,
          0.48125000000000007
         ],
         "matches": "y41",
         "showticklabels": false
        },
        "yaxis44": {
         "anchor": "x44",
         "domain": [
          0.38906250000000003,
          0.48125000000000007
         ],
         "matches": "y41",
         "showticklabels": false
        },
        "yaxis45": {
         "anchor": "x45",
         "domain": [
          0.38906250000000003,
          0.48125000000000007
         ],
         "matches": "y41",
         "showticklabels": false
        },
        "yaxis46": {
         "anchor": "x46",
         "domain": [
          0.38906250000000003,
          0.48125000000000007
         ],
         "matches": "y41",
         "showticklabels": false
        },
        "yaxis47": {
         "anchor": "x47",
         "domain": [
          0.38906250000000003,
          0.48125000000000007
         ],
         "matches": "y41",
         "showticklabels": false
        },
        "yaxis48": {
         "anchor": "x48",
         "domain": [
          0.38906250000000003,
          0.48125000000000007
         ],
         "matches": "y41",
         "showticklabels": false
        },
        "yaxis49": {
         "anchor": "x49",
         "domain": [
          0.38906250000000003,
          0.48125000000000007
         ],
         "matches": "y41",
         "showticklabels": false
        },
        "yaxis5": {
         "anchor": "x5",
         "domain": [
          0.9078125000000001,
          1
         ],
         "matches": "y",
         "showticklabels": false
        },
        "yaxis50": {
         "anchor": "x50",
         "domain": [
          0.38906250000000003,
          0.48125000000000007
         ],
         "matches": "y41",
         "showticklabels": false
        },
        "yaxis51": {
         "anchor": "x51",
         "domain": [
          0.259375,
          0.3515625
         ]
        },
        "yaxis52": {
         "anchor": "x52",
         "domain": [
          0.259375,
          0.3515625
         ],
         "matches": "y51",
         "showticklabels": false
        },
        "yaxis53": {
         "anchor": "x53",
         "domain": [
          0.259375,
          0.3515625
         ],
         "matches": "y51",
         "showticklabels": false
        },
        "yaxis54": {
         "anchor": "x54",
         "domain": [
          0.259375,
          0.3515625
         ],
         "matches": "y51",
         "showticklabels": false
        },
        "yaxis55": {
         "anchor": "x55",
         "domain": [
          0.259375,
          0.3515625
         ],
         "matches": "y51",
         "showticklabels": false
        },
        "yaxis56": {
         "anchor": "x56",
         "domain": [
          0.259375,
          0.3515625
         ],
         "matches": "y51",
         "showticklabels": false
        },
        "yaxis57": {
         "anchor": "x57",
         "domain": [
          0.259375,
          0.3515625
         ],
         "matches": "y51",
         "showticklabels": false
        },
        "yaxis58": {
         "anchor": "x58",
         "domain": [
          0.259375,
          0.3515625
         ],
         "matches": "y51",
         "showticklabels": false
        },
        "yaxis59": {
         "anchor": "x59",
         "domain": [
          0.259375,
          0.3515625
         ],
         "matches": "y51",
         "showticklabels": false
        },
        "yaxis6": {
         "anchor": "x6",
         "domain": [
          0.9078125000000001,
          1
         ],
         "matches": "y",
         "showticklabels": false
        },
        "yaxis60": {
         "anchor": "x60",
         "domain": [
          0.259375,
          0.3515625
         ],
         "matches": "y51",
         "showticklabels": false
        },
        "yaxis61": {
         "anchor": "x61",
         "domain": [
          0.1296875,
          0.22187500000000002
         ]
        },
        "yaxis62": {
         "anchor": "x62",
         "domain": [
          0.1296875,
          0.22187500000000002
         ],
         "matches": "y61",
         "showticklabels": false
        },
        "yaxis63": {
         "anchor": "x63",
         "domain": [
          0.1296875,
          0.22187500000000002
         ],
         "matches": "y61",
         "showticklabels": false
        },
        "yaxis64": {
         "anchor": "x64",
         "domain": [
          0.1296875,
          0.22187500000000002
         ],
         "matches": "y61",
         "showticklabels": false
        },
        "yaxis65": {
         "anchor": "x65",
         "domain": [
          0.1296875,
          0.22187500000000002
         ],
         "matches": "y61",
         "showticklabels": false
        },
        "yaxis66": {
         "anchor": "x66",
         "domain": [
          0.1296875,
          0.22187500000000002
         ],
         "matches": "y61",
         "showticklabels": false
        },
        "yaxis67": {
         "anchor": "x67",
         "domain": [
          0.1296875,
          0.22187500000000002
         ],
         "matches": "y61",
         "showticklabels": false
        },
        "yaxis68": {
         "anchor": "x68",
         "domain": [
          0.1296875,
          0.22187500000000002
         ],
         "matches": "y61",
         "showticklabels": false
        },
        "yaxis69": {
         "anchor": "x69",
         "domain": [
          0.1296875,
          0.22187500000000002
         ],
         "matches": "y61",
         "showticklabels": false
        },
        "yaxis7": {
         "anchor": "x7",
         "domain": [
          0.9078125000000001,
          1
         ],
         "matches": "y",
         "showticklabels": false
        },
        "yaxis70": {
         "anchor": "x70",
         "domain": [
          0.1296875,
          0.22187500000000002
         ],
         "matches": "y61",
         "showticklabels": false
        },
        "yaxis71": {
         "anchor": "x71",
         "domain": [
          0,
          0.0921875
         ]
        },
        "yaxis72": {
         "anchor": "x72",
         "domain": [
          0,
          0.0921875
         ],
         "matches": "y71",
         "showticklabels": false
        },
        "yaxis73": {
         "anchor": "x73",
         "domain": [
          0,
          0.0921875
         ],
         "matches": "y71",
         "showticklabels": false
        },
        "yaxis74": {
         "anchor": "x74",
         "domain": [
          0,
          0.0921875
         ],
         "matches": "y71",
         "showticklabels": false
        },
        "yaxis75": {
         "anchor": "x75",
         "domain": [
          0,
          0.0921875
         ],
         "matches": "y71",
         "showticklabels": false
        },
        "yaxis76": {
         "anchor": "x76",
         "domain": [
          0,
          0.0921875
         ],
         "matches": "y71",
         "showticklabels": false
        },
        "yaxis77": {
         "anchor": "x77",
         "domain": [
          0,
          0.0921875
         ],
         "matches": "y71",
         "showticklabels": false
        },
        "yaxis78": {
         "anchor": "x78",
         "domain": [
          0,
          0.0921875
         ],
         "matches": "y71",
         "showticklabels": false
        },
        "yaxis79": {
         "anchor": "x79",
         "domain": [
          0,
          0.0921875
         ],
         "matches": "y71",
         "showticklabels": false
        },
        "yaxis8": {
         "anchor": "x8",
         "domain": [
          0.9078125000000001,
          1
         ],
         "matches": "y",
         "showticklabels": false
        },
        "yaxis80": {
         "anchor": "x80",
         "domain": [
          0,
          0.0921875
         ],
         "matches": "y71",
         "showticklabels": false
        },
        "yaxis9": {
         "anchor": "x9",
         "domain": [
          0.9078125000000001,
          1
         ],
         "matches": "y",
         "showticklabels": false
        }
       }
      }
     },
     "metadata": {},
     "output_type": "display_data"
    }
   ],
   "source": [
    "# Sort out rows and columns\n",
    "well_rows = natsorted(plate_data.measurements[\"well_row\"].unique().tolist())  # type: ignore\n",
    "well_cols = natsorted(plate_data.measurements[\"well_column\"].unique().tolist())  # type: ignore\n",
    "subplot_rows = {well_row: i + 1 for i, well_row in enumerate(well_rows)}\n",
    "subplot_cols = {organism_id: i + 1 for i, organism_id in enumerate(well_cols)}\n",
    "\n",
    "# Create figure\n",
    "num_rows = len(subplot_rows)\n",
    "num_cols = len(subplot_cols)\n",
    "fig = make_subplots(\n",
    "    rows=num_rows,\n",
    "    cols=num_cols,\n",
    "    shared_xaxes=True,\n",
    "    shared_yaxes=True,\n",
    "    row_titles=well_rows,\n",
    "    column_titles=well_cols,\n",
    "    x_title=\"Excitation wavelength (nm)\",\n",
    ")\n",
    "\n",
    "for well_id, group in plate_data.measurements.groupby(\"well_id\"):  # type: ignore\n",
    "    trace = go.Scatter(\n",
    "        x=group[\"excitation_nm\"],\n",
    "        y=group[\"value\"],\n",
    "        marker={\"color\": \"blue\"},\n",
    "        mode=\"lines\",\n",
    "        showlegend=False,\n",
    "    )\n",
    "\n",
    "    well_row = well_id[0]\n",
    "    well_col = int(well_id[1:])\n",
    "    fig.add_trace(\n",
    "        trace,\n",
    "        row=subplot_rows[well_row],\n",
    "        col=subplot_cols[well_col],\n",
    "    )\n",
    "fig.update_layout(\n",
    "    width=900,\n",
    "    height=600,\n",
    "    template=\"plotly_white\",\n",
    ")\n",
    "fig.show()"
   ]
  }
 ],
 "metadata": {
  "kernelspec": {
   "display_name": "Python 3",
   "language": "python",
   "name": "python3"
  },
  "language_info": {
   "codemirror_mode": {
    "name": "ipython",
    "version": 3
   },
   "file_extension": ".py",
   "mimetype": "text/x-python",
   "name": "python",
   "nbconvert_exporter": "python",
   "pygments_lexer": "ipython3",
   "version": "3.12.4"
  }
 },
 "nbformat": 4,
 "nbformat_minor": 5
}
