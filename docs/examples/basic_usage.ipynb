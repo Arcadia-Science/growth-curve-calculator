{
 "cells": [
  {
   "cell_type": "markdown",
   "metadata": {},
   "source": [
    "# Basic usage"
   ]
  },
  {
   "cell_type": "markdown",
   "metadata": {},
   "source": [
    "### Parsing SpectraMax XML Files"
   ]
  },
  {
   "cell_type": "code",
   "execution_count": 1,
   "metadata": {},
   "outputs": [
    {
     "data": {
      "text/plain": [
       "['Chlamy', 'Phaeo']"
      ]
     },
     "execution_count": 1,
     "metadata": {},
     "output_type": "execute_result"
    }
   ],
   "source": [
    "from pathlib import Path\n",
    "\n",
    "from growth_curve_calculator import parse_spectramax_xml\n",
    "\n",
    "# Parse an XML file\n",
    "example_data_directory = Path(\"../../growth_curve_calculator/tests/example_data\")\n",
    "xml_filepath = example_data_directory / \"sample_endpoints_1.xml\"\n",
    "microplate_data_list = parse_spectramax_xml(xml_filepath)\n",
    "\n",
    "# Get names of all plates in the file\n",
    "[plate.name for plate in microplate_data_list]"
   ]
  },
  {
   "cell_type": "code",
   "execution_count": 2,
   "metadata": {},
   "outputs": [
    {
     "name": "stdout",
     "output_type": "stream",
     "text": [
      "Chlamy: 2024-08-06 22:19:29\n",
      "Phaeo: 2024-08-06 22:21:08\n"
     ]
    }
   ],
   "source": [
    "# Get the times at which each plate was measured\n",
    "for plate in microplate_data_list:\n",
    "    print(f\"{plate.name}: {plate.timestamp}\")"
   ]
  },
  {
   "cell_type": "code",
   "execution_count": 3,
   "metadata": {},
   "outputs": [
    {
     "data": {
      "text/html": [
       "<div>\n",
       "<style scoped>\n",
       "    .dataframe tbody tr th:only-of-type {\n",
       "        vertical-align: middle;\n",
       "    }\n",
       "\n",
       "    .dataframe tbody tr th {\n",
       "        vertical-align: top;\n",
       "    }\n",
       "\n",
       "    .dataframe thead th {\n",
       "        text-align: right;\n",
       "    }\n",
       "</style>\n",
       "<table border=\"1\" class=\"dataframe\">\n",
       "  <thead>\n",
       "    <tr style=\"text-align: right;\">\n",
       "      <th></th>\n",
       "      <th>well_row</th>\n",
       "      <th>well_column</th>\n",
       "      <th>well_id</th>\n",
       "      <th>value</th>\n",
       "      <th>excitation_nm</th>\n",
       "    </tr>\n",
       "  </thead>\n",
       "  <tbody>\n",
       "    <tr>\n",
       "      <th>0</th>\n",
       "      <td>A</td>\n",
       "      <td>5</td>\n",
       "      <td>A05</td>\n",
       "      <td>0.050</td>\n",
       "      <td>750.0</td>\n",
       "    </tr>\n",
       "    <tr>\n",
       "      <th>1</th>\n",
       "      <td>A</td>\n",
       "      <td>6</td>\n",
       "      <td>A06</td>\n",
       "      <td>0.040</td>\n",
       "      <td>750.0</td>\n",
       "    </tr>\n",
       "    <tr>\n",
       "      <th>2</th>\n",
       "      <td>A</td>\n",
       "      <td>7</td>\n",
       "      <td>A07</td>\n",
       "      <td>0.042</td>\n",
       "      <td>750.0</td>\n",
       "    </tr>\n",
       "    <tr>\n",
       "      <th>3</th>\n",
       "      <td>A</td>\n",
       "      <td>8</td>\n",
       "      <td>A08</td>\n",
       "      <td>1.063</td>\n",
       "      <td>750.0</td>\n",
       "    </tr>\n",
       "    <tr>\n",
       "      <th>4</th>\n",
       "      <td>B</td>\n",
       "      <td>5</td>\n",
       "      <td>B05</td>\n",
       "      <td>0.134</td>\n",
       "      <td>750.0</td>\n",
       "    </tr>\n",
       "  </tbody>\n",
       "</table>\n",
       "</div>"
      ],
      "text/plain": [
       "  well_row  well_column well_id  value  excitation_nm\n",
       "0        A            5     A05  0.050          750.0\n",
       "1        A            6     A06  0.040          750.0\n",
       "2        A            7     A07  0.042          750.0\n",
       "3        A            8     A08  1.063          750.0\n",
       "4        B            5     B05  0.134          750.0"
      ]
     },
     "execution_count": 3,
     "metadata": {},
     "output_type": "execute_result"
    }
   ],
   "source": [
    "# Get the optical density measurements of a plate as a pandas DataFrame\n",
    "microplate_data = microplate_data_list[0]\n",
    "microplate_data.measurements.head()"
   ]
  },
  {
   "cell_type": "code",
   "execution_count": 4,
   "metadata": {},
   "outputs": [
    {
     "data": {
      "text/plain": [
       "{'Plate  (1 of 2)': '',\n",
       " 'Plate name': 'Chlamy',\n",
       " 'Barcode': '',\n",
       " 'Microplate name': 'Standard clrbtm',\n",
       " 'Rows': '8',\n",
       " 'Columns': '12',\n",
       " 'Well count': '96 Wells',\n",
       " 'Well shape': 'Round',\n",
       " 'Bottom shape': 'Flat',\n",
       " 'Orientation': 'Landscape',\n",
       " 'Is lidded': 'False',\n",
       " 'Read Time': '08/06/2024 22:19:29',\n",
       " 'Settings': '',\n",
       " 'Measurement mode': 'Abs',\n",
       " 'Measurement type': 'Endpoint',\n",
       " 'Wavelength settings': '',\n",
       " 'Path check': 'False',\n",
       " 'Excitation/Emission': '750 nm/-',\n",
       " 'Detection settings': '',\n",
       " 'Speed read': 'True',\n",
       " 'Shake settings': '',\n",
       " 'Shake': 'True',\n",
       " 'Duration': '5',\n",
       " 'Mode': 'Orbital',\n",
       " 'Intensity': 'Medium',\n",
       " 'Read area settings': '',\n",
       " 'Read order': 'Row',\n",
       " 'Well data': ''}"
      ]
     },
     "execution_count": 4,
     "metadata": {},
     "output_type": "execute_result"
    }
   ],
   "source": [
    "# Explore plate reader metadata\n",
    "microplate_data.metadata"
   ]
  }
 ],
 "metadata": {
  "kernelspec": {
   "display_name": "Python 3",
   "language": "python",
   "name": "python3"
  },
  "language_info": {
   "codemirror_mode": {
    "name": "ipython",
    "version": 3
   },
   "file_extension": ".py",
   "mimetype": "text/x-python",
   "name": "python",
   "nbconvert_exporter": "python",
   "pygments_lexer": "ipython3",
   "version": "3.12.4"
  }
 },
 "nbformat": 4,
 "nbformat_minor": 2
}
